{
 "cells": [
  {
   "cell_type": "markdown",
   "id": "4279dce3-c657-4e9e-a895-457a3203df5c",
   "metadata": {},
   "source": [
    "# Predicting Energy and Gas Savings\n",
    "====================================================\n",
    "\n",
    "# Part 1: Data Cleaning\n",
    "\n",
    "Welcome to this Jupyter notebook, where we'll explore the data cleaning process for a machine learning task aimed at predicting gas and energy usage in residential homes participating in the Home Performance with ENERGY STAR® Program from 2007 to 2012 as well as the total project costs.\n",
    "\n",
    "**Background:**\n",
    "The Home Performance with ENERGY STAR® Program, overseen by the U.S. Environmental Protection Agency (EPA) and U.S. Department of Energy (DOE), emphasizes promoting energy efficiency. The analysis involves comparing estimated savings against normalized values from an open-source energy efficiency meter.\n",
    "\n",
    "**About the Home Performance with ENERGY STAR® Program:** \"Home Performance with ENERGY STAR® is a national collaborative program between the U.S. Department of Energy and the U.S. Environmental Protection Agency that includes a network of 32 utility and nonprofit sponsors, and 1,300 home performance contractors.\n",
    "Since 2001, Home Performance with ENERGY STAR has been the trusted source that helps contractors and energy programs deliver home energy upgrades. These upgrades make American homes safer, healthier, and more energy efficient.\n",
    "The Home Performance with ENERGY STAR program offers a trusted approach to home upgrades that includes a comprehensive evaluation, with recommended work being performed by trained and qualified networks of contractors. A cornerstone of the program is a set of rigorous quality assurance requirements.\" (source: [Department of Energy](https://www.energy.gov/eere/buildings/home-performance-energy-starr), retrieved 29.01.2024)\n",
    "\n",
    "**Dataset Overview:**\n",
    "This dataset backcasts estimated modeled savings for a subset of completed projects in the State of New York (US) from 2007 to 2012. The projects are part of the Home Performance with ENERGY STAR® Program under Residential Existing Homes (One to Four Units) Predicted First Year Savings for Energy Efficiency Measures: 2007 – 2012. The analysis is against normalized savings calculated by an open-source energy efficiency meter. The primary focus in this notebook is on cleaning and preparing this data to develop, train, and fit machine learning models for accurate predictions.\n",
    "\n",
    "**Datasource:**\n",
    "[Data - New York State](https://data.world/data-ny-gov/jtrr-tvq4) (Retrieved on 29.01.2024)\n",
    "\n",
    "**Project Goal:**\n",
    "The primary goal is to develop machine learning models capable of predicting residential gas and energy use after project completion, as well as total project costs. This will involve leveraging insights from the Home Performance with ENERGY STAR® programme dataset and using advanced algorithms to make predictions.\n",
    "\n",
    "Let's dive in! 🛠️"
   ]
  },
  {
   "cell_type": "code",
   "execution_count": 2,
   "id": "fdcae585-d11b-4ac9-b385-8c7c678c18bb",
   "metadata": {},
   "outputs": [
    {
     "name": "stderr",
     "output_type": "stream",
     "text": [
      "/var/folders/yk/s4qyg63s1hq80x6c4rqfc6100000gn/T/ipykernel_31940/1975430074.py:1: DeprecationWarning: \n",
      "Pyarrow will become a required dependency of pandas in the next major release of pandas (pandas 3.0),\n",
      "(to allow more performant data types, such as the Arrow string type, and better interoperability with other libraries)\n",
      "but was not found to be installed on your system.\n",
      "If this would cause problems for you,\n",
      "please provide us feedback at https://github.com/pandas-dev/pandas/issues/54466\n",
      "        \n",
      "  import pandas as pd\n"
     ]
    }
   ],
   "source": [
    "import pandas as pd\n",
    "import numpy as np\n",
    "import matplotlib.pyplot as plt\n",
    "import seaborn as sns\n",
    "import re"
   ]
  },
  {
   "cell_type": "markdown",
   "id": "1131c20d-6f8d-4141-a41d-386204659699",
   "metadata": {},
   "source": [
    "## Load data"
   ]
  },
  {
   "cell_type": "code",
   "execution_count": 4,
   "id": "4109d32c-d850-44b7-b6d1-c764b6068de4",
   "metadata": {},
   "outputs": [],
   "source": [
    "data = pd.read_csv('../data/raw_data/residential_home_energy_efficiency.csv')"
   ]
  },
  {
   "cell_type": "code",
   "execution_count": 602,
   "id": "46ce2bc3-0a20-40bb-b1e3-8b4f6366a2fc",
   "metadata": {},
   "outputs": [
    {
     "data": {
      "text/html": [
       "<div>\n",
       "<style scoped>\n",
       "    .dataframe tbody tr th:only-of-type {\n",
       "        vertical-align: middle;\n",
       "    }\n",
       "\n",
       "    .dataframe tbody tr th {\n",
       "        vertical-align: top;\n",
       "    }\n",
       "\n",
       "    .dataframe thead th {\n",
       "        text-align: right;\n",
       "    }\n",
       "</style>\n",
       "<table border=\"1\" class=\"dataframe\">\n",
       "  <thead>\n",
       "    <tr style=\"text-align: right;\">\n",
       "      <th></th>\n",
       "      <th>index</th>\n",
       "      <th>Project ID</th>\n",
       "      <th>Contractor ID</th>\n",
       "      <th>Project County</th>\n",
       "      <th>Project City</th>\n",
       "      <th>Project ZIP</th>\n",
       "      <th>Climate Zone</th>\n",
       "      <th>Weather Station</th>\n",
       "      <th>Weather Station-Normalization</th>\n",
       "      <th>Project Completion Date</th>\n",
       "      <th>...</th>\n",
       "      <th>Evaluated Annual Gas Savings (MMBtu)</th>\n",
       "      <th>Central Hudson</th>\n",
       "      <th>Consolidated Edison</th>\n",
       "      <th>LIPA</th>\n",
       "      <th>National Grid</th>\n",
       "      <th>National Fuel Gas</th>\n",
       "      <th>NYSEG</th>\n",
       "      <th>Orange and Rockland</th>\n",
       "      <th>Rochester Gas and Electric</th>\n",
       "      <th>Location 1</th>\n",
       "    </tr>\n",
       "  </thead>\n",
       "  <tbody>\n",
       "    <tr>\n",
       "      <th>0</th>\n",
       "      <td>0</td>\n",
       "      <td>P00000034473</td>\n",
       "      <td>CY0000000014</td>\n",
       "      <td>Onondaga</td>\n",
       "      <td>Fabius</td>\n",
       "      <td>13063</td>\n",
       "      <td>5|A|Cold</td>\n",
       "      <td>725190</td>\n",
       "      <td>725190</td>\n",
       "      <td>08/17/2007</td>\n",
       "      <td>...</td>\n",
       "      <td>0.0</td>\n",
       "      <td>False</td>\n",
       "      <td>False</td>\n",
       "      <td>False</td>\n",
       "      <td>True</td>\n",
       "      <td>False</td>\n",
       "      <td>False</td>\n",
       "      <td>False</td>\n",
       "      <td>False</td>\n",
       "      <td>Fabius, NY 13063\\n(42.850323, -75.979919)</td>\n",
       "    </tr>\n",
       "    <tr>\n",
       "      <th>1</th>\n",
       "      <td>1</td>\n",
       "      <td>P00000110370</td>\n",
       "      <td>CY0000000014</td>\n",
       "      <td>Onondaga</td>\n",
       "      <td>Nedrow</td>\n",
       "      <td>13120</td>\n",
       "      <td>5|A|Cold</td>\n",
       "      <td>725190</td>\n",
       "      <td>725190</td>\n",
       "      <td>10/04/2007</td>\n",
       "      <td>...</td>\n",
       "      <td>0.0</td>\n",
       "      <td>False</td>\n",
       "      <td>False</td>\n",
       "      <td>False</td>\n",
       "      <td>True</td>\n",
       "      <td>False</td>\n",
       "      <td>False</td>\n",
       "      <td>False</td>\n",
       "      <td>False</td>\n",
       "      <td>Nedrow, NY 13120\\n(42.950373, -76.163321)</td>\n",
       "    </tr>\n",
       "    <tr>\n",
       "      <th>2</th>\n",
       "      <td>2</td>\n",
       "      <td>P00000182080</td>\n",
       "      <td>CY0000000014</td>\n",
       "      <td>Onondaga</td>\n",
       "      <td>Jamesville</td>\n",
       "      <td>13078</td>\n",
       "      <td>5|A|Cold</td>\n",
       "      <td>725190</td>\n",
       "      <td>725190</td>\n",
       "      <td>02/27/2008</td>\n",
       "      <td>...</td>\n",
       "      <td>0.0</td>\n",
       "      <td>False</td>\n",
       "      <td>False</td>\n",
       "      <td>False</td>\n",
       "      <td>True</td>\n",
       "      <td>False</td>\n",
       "      <td>False</td>\n",
       "      <td>False</td>\n",
       "      <td>False</td>\n",
       "      <td>Jamesville, NY 13078\\n(42.976691, -76.069719)</td>\n",
       "    </tr>\n",
       "    <tr>\n",
       "      <th>3</th>\n",
       "      <td>3</td>\n",
       "      <td>P00000196191</td>\n",
       "      <td>CY0000000261</td>\n",
       "      <td>Albany</td>\n",
       "      <td>Albany</td>\n",
       "      <td>12203</td>\n",
       "      <td>5|A|Cold</td>\n",
       "      <td>725180</td>\n",
       "      <td>725180</td>\n",
       "      <td>02/20/2008</td>\n",
       "      <td>...</td>\n",
       "      <td>0.0</td>\n",
       "      <td>False</td>\n",
       "      <td>False</td>\n",
       "      <td>False</td>\n",
       "      <td>True</td>\n",
       "      <td>False</td>\n",
       "      <td>False</td>\n",
       "      <td>False</td>\n",
       "      <td>False</td>\n",
       "      <td>Albany, NY 12203\\n(42.680815, -73.836193)</td>\n",
       "    </tr>\n",
       "    <tr>\n",
       "      <th>4</th>\n",
       "      <td>4</td>\n",
       "      <td>P00000327900</td>\n",
       "      <td>CY0000000004</td>\n",
       "      <td>Erie</td>\n",
       "      <td>Buffalo</td>\n",
       "      <td>14221</td>\n",
       "      <td>5|A|Cold</td>\n",
       "      <td>725280</td>\n",
       "      <td>725280</td>\n",
       "      <td>06/18/2008</td>\n",
       "      <td>...</td>\n",
       "      <td>0.0</td>\n",
       "      <td>False</td>\n",
       "      <td>False</td>\n",
       "      <td>False</td>\n",
       "      <td>True</td>\n",
       "      <td>False</td>\n",
       "      <td>False</td>\n",
       "      <td>False</td>\n",
       "      <td>False</td>\n",
       "      <td>Buffalo, NY 14221\\n(42.980424, -78.728009)</td>\n",
       "    </tr>\n",
       "  </tbody>\n",
       "</table>\n",
       "<p>5 rows × 37 columns</p>\n",
       "</div>"
      ],
      "text/plain": [
       "   index    Project ID Contractor ID Project County Project City  Project ZIP  \\\n",
       "0      0  P00000034473  CY0000000014       Onondaga       Fabius        13063   \n",
       "1      1  P00000110370  CY0000000014       Onondaga       Nedrow        13120   \n",
       "2      2  P00000182080  CY0000000014       Onondaga   Jamesville        13078   \n",
       "3      3  P00000196191  CY0000000261         Albany       Albany        12203   \n",
       "4      4  P00000327900  CY0000000004           Erie      Buffalo        14221   \n",
       "\n",
       "  Climate Zone  Weather Station  Weather Station-Normalization  \\\n",
       "0     5|A|Cold           725190                         725190   \n",
       "1     5|A|Cold           725190                         725190   \n",
       "2     5|A|Cold           725190                         725190   \n",
       "3     5|A|Cold           725180                         725180   \n",
       "4     5|A|Cold           725280                         725280   \n",
       "\n",
       "  Project Completion Date  ... Evaluated Annual Gas Savings (MMBtu)  \\\n",
       "0              08/17/2007  ...                                  0.0   \n",
       "1              10/04/2007  ...                                  0.0   \n",
       "2              02/27/2008  ...                                  0.0   \n",
       "3              02/20/2008  ...                                  0.0   \n",
       "4              06/18/2008  ...                                  0.0   \n",
       "\n",
       "   Central Hudson  Consolidated Edison   LIPA  National Grid  \\\n",
       "0           False                False  False           True   \n",
       "1           False                False  False           True   \n",
       "2           False                False  False           True   \n",
       "3           False                False  False           True   \n",
       "4           False                False  False           True   \n",
       "\n",
       "   National Fuel Gas  NYSEG  Orange and Rockland  Rochester Gas and Electric  \\\n",
       "0              False  False                False                       False   \n",
       "1              False  False                False                       False   \n",
       "2              False  False                False                       False   \n",
       "3              False  False                False                       False   \n",
       "4              False  False                False                       False   \n",
       "\n",
       "                                      Location 1  \n",
       "0      Fabius, NY 13063\\n(42.850323, -75.979919)  \n",
       "1      Nedrow, NY 13120\\n(42.950373, -76.163321)  \n",
       "2  Jamesville, NY 13078\\n(42.976691, -76.069719)  \n",
       "3      Albany, NY 12203\\n(42.680815, -73.836193)  \n",
       "4     Buffalo, NY 14221\\n(42.980424, -78.728009)  \n",
       "\n",
       "[5 rows x 37 columns]"
      ]
     },
     "execution_count": 602,
     "metadata": {},
     "output_type": "execute_result"
    }
   ],
   "source": [
    "data.head()"
   ]
  },
  {
   "cell_type": "markdown",
   "id": "8f78663c-d75e-4b7c-9f98-fc86e5cb960a",
   "metadata": {},
   "source": [
    "# Inspect data"
   ]
  },
  {
   "cell_type": "code",
   "execution_count": 603,
   "id": "a73dc741-ccec-4b71-aaa3-bc7992556e3e",
   "metadata": {},
   "outputs": [
    {
     "data": {
      "text/plain": [
       "(3652, 37)"
      ]
     },
     "execution_count": 603,
     "metadata": {},
     "output_type": "execute_result"
    }
   ],
   "source": [
    "data.shape"
   ]
  },
  {
   "cell_type": "code",
   "execution_count": 604,
   "id": "cc7394be-7c28-4dc1-84ac-55ab0d948924",
   "metadata": {},
   "outputs": [
    {
     "data": {
      "text/html": [
       "<div>\n",
       "<style scoped>\n",
       "    .dataframe tbody tr th:only-of-type {\n",
       "        vertical-align: middle;\n",
       "    }\n",
       "\n",
       "    .dataframe tbody tr th {\n",
       "        vertical-align: top;\n",
       "    }\n",
       "\n",
       "    .dataframe thead th {\n",
       "        text-align: right;\n",
       "    }\n",
       "</style>\n",
       "<table border=\"1\" class=\"dataframe\">\n",
       "  <thead>\n",
       "    <tr style=\"text-align: right;\">\n",
       "      <th></th>\n",
       "      <th>index</th>\n",
       "      <th>project_id</th>\n",
       "      <th>contractor_id</th>\n",
       "      <th>project_county</th>\n",
       "      <th>project_city</th>\n",
       "      <th>project_zip</th>\n",
       "      <th>climate_zone</th>\n",
       "      <th>weather_station</th>\n",
       "      <th>weather_station-normalization</th>\n",
       "      <th>project_completion_date</th>\n",
       "      <th>...</th>\n",
       "      <th>evaluated_annual_gas_savings_(mmbtu)</th>\n",
       "      <th>central_hudson</th>\n",
       "      <th>consolidated_edison</th>\n",
       "      <th>lipa</th>\n",
       "      <th>national_grid</th>\n",
       "      <th>national_fuel_gas</th>\n",
       "      <th>nyseg</th>\n",
       "      <th>orange_and_rockland</th>\n",
       "      <th>rochester_gas_and_electric</th>\n",
       "      <th>location_1</th>\n",
       "    </tr>\n",
       "  </thead>\n",
       "  <tbody>\n",
       "    <tr>\n",
       "      <th>0</th>\n",
       "      <td>0</td>\n",
       "      <td>P00000034473</td>\n",
       "      <td>CY0000000014</td>\n",
       "      <td>Onondaga</td>\n",
       "      <td>Fabius</td>\n",
       "      <td>13063</td>\n",
       "      <td>5|A|Cold</td>\n",
       "      <td>725190</td>\n",
       "      <td>725190</td>\n",
       "      <td>08/17/2007</td>\n",
       "      <td>...</td>\n",
       "      <td>0.0</td>\n",
       "      <td>False</td>\n",
       "      <td>False</td>\n",
       "      <td>False</td>\n",
       "      <td>True</td>\n",
       "      <td>False</td>\n",
       "      <td>False</td>\n",
       "      <td>False</td>\n",
       "      <td>False</td>\n",
       "      <td>Fabius, NY 13063\\n(42.850323, -75.979919)</td>\n",
       "    </tr>\n",
       "    <tr>\n",
       "      <th>1</th>\n",
       "      <td>1</td>\n",
       "      <td>P00000110370</td>\n",
       "      <td>CY0000000014</td>\n",
       "      <td>Onondaga</td>\n",
       "      <td>Nedrow</td>\n",
       "      <td>13120</td>\n",
       "      <td>5|A|Cold</td>\n",
       "      <td>725190</td>\n",
       "      <td>725190</td>\n",
       "      <td>10/04/2007</td>\n",
       "      <td>...</td>\n",
       "      <td>0.0</td>\n",
       "      <td>False</td>\n",
       "      <td>False</td>\n",
       "      <td>False</td>\n",
       "      <td>True</td>\n",
       "      <td>False</td>\n",
       "      <td>False</td>\n",
       "      <td>False</td>\n",
       "      <td>False</td>\n",
       "      <td>Nedrow, NY 13120\\n(42.950373, -76.163321)</td>\n",
       "    </tr>\n",
       "    <tr>\n",
       "      <th>2</th>\n",
       "      <td>2</td>\n",
       "      <td>P00000182080</td>\n",
       "      <td>CY0000000014</td>\n",
       "      <td>Onondaga</td>\n",
       "      <td>Jamesville</td>\n",
       "      <td>13078</td>\n",
       "      <td>5|A|Cold</td>\n",
       "      <td>725190</td>\n",
       "      <td>725190</td>\n",
       "      <td>02/27/2008</td>\n",
       "      <td>...</td>\n",
       "      <td>0.0</td>\n",
       "      <td>False</td>\n",
       "      <td>False</td>\n",
       "      <td>False</td>\n",
       "      <td>True</td>\n",
       "      <td>False</td>\n",
       "      <td>False</td>\n",
       "      <td>False</td>\n",
       "      <td>False</td>\n",
       "      <td>Jamesville, NY 13078\\n(42.976691, -76.069719)</td>\n",
       "    </tr>\n",
       "    <tr>\n",
       "      <th>3</th>\n",
       "      <td>3</td>\n",
       "      <td>P00000196191</td>\n",
       "      <td>CY0000000261</td>\n",
       "      <td>Albany</td>\n",
       "      <td>Albany</td>\n",
       "      <td>12203</td>\n",
       "      <td>5|A|Cold</td>\n",
       "      <td>725180</td>\n",
       "      <td>725180</td>\n",
       "      <td>02/20/2008</td>\n",
       "      <td>...</td>\n",
       "      <td>0.0</td>\n",
       "      <td>False</td>\n",
       "      <td>False</td>\n",
       "      <td>False</td>\n",
       "      <td>True</td>\n",
       "      <td>False</td>\n",
       "      <td>False</td>\n",
       "      <td>False</td>\n",
       "      <td>False</td>\n",
       "      <td>Albany, NY 12203\\n(42.680815, -73.836193)</td>\n",
       "    </tr>\n",
       "    <tr>\n",
       "      <th>4</th>\n",
       "      <td>4</td>\n",
       "      <td>P00000327900</td>\n",
       "      <td>CY0000000004</td>\n",
       "      <td>Erie</td>\n",
       "      <td>Buffalo</td>\n",
       "      <td>14221</td>\n",
       "      <td>5|A|Cold</td>\n",
       "      <td>725280</td>\n",
       "      <td>725280</td>\n",
       "      <td>06/18/2008</td>\n",
       "      <td>...</td>\n",
       "      <td>0.0</td>\n",
       "      <td>False</td>\n",
       "      <td>False</td>\n",
       "      <td>False</td>\n",
       "      <td>True</td>\n",
       "      <td>False</td>\n",
       "      <td>False</td>\n",
       "      <td>False</td>\n",
       "      <td>False</td>\n",
       "      <td>Buffalo, NY 14221\\n(42.980424, -78.728009)</td>\n",
       "    </tr>\n",
       "  </tbody>\n",
       "</table>\n",
       "<p>5 rows × 37 columns</p>\n",
       "</div>"
      ],
      "text/plain": [
       "   index    project_id contractor_id project_county project_city  project_zip  \\\n",
       "0      0  P00000034473  CY0000000014       Onondaga       Fabius        13063   \n",
       "1      1  P00000110370  CY0000000014       Onondaga       Nedrow        13120   \n",
       "2      2  P00000182080  CY0000000014       Onondaga   Jamesville        13078   \n",
       "3      3  P00000196191  CY0000000261         Albany       Albany        12203   \n",
       "4      4  P00000327900  CY0000000004           Erie      Buffalo        14221   \n",
       "\n",
       "  climate_zone  weather_station  weather_station-normalization  \\\n",
       "0     5|A|Cold           725190                         725190   \n",
       "1     5|A|Cold           725190                         725190   \n",
       "2     5|A|Cold           725190                         725190   \n",
       "3     5|A|Cold           725180                         725180   \n",
       "4     5|A|Cold           725280                         725280   \n",
       "\n",
       "  project_completion_date  ... evaluated_annual_gas_savings_(mmbtu)  \\\n",
       "0              08/17/2007  ...                                  0.0   \n",
       "1              10/04/2007  ...                                  0.0   \n",
       "2              02/27/2008  ...                                  0.0   \n",
       "3              02/20/2008  ...                                  0.0   \n",
       "4              06/18/2008  ...                                  0.0   \n",
       "\n",
       "   central_hudson  consolidated_edison   lipa  national_grid  \\\n",
       "0           False                False  False           True   \n",
       "1           False                False  False           True   \n",
       "2           False                False  False           True   \n",
       "3           False                False  False           True   \n",
       "4           False                False  False           True   \n",
       "\n",
       "   national_fuel_gas  nyseg  orange_and_rockland  rochester_gas_and_electric  \\\n",
       "0              False  False                False                       False   \n",
       "1              False  False                False                       False   \n",
       "2              False  False                False                       False   \n",
       "3              False  False                False                       False   \n",
       "4              False  False                False                       False   \n",
       "\n",
       "                                      location_1  \n",
       "0      Fabius, NY 13063\\n(42.850323, -75.979919)  \n",
       "1      Nedrow, NY 13120\\n(42.950373, -76.163321)  \n",
       "2  Jamesville, NY 13078\\n(42.976691, -76.069719)  \n",
       "3      Albany, NY 12203\\n(42.680815, -73.836193)  \n",
       "4     Buffalo, NY 14221\\n(42.980424, -78.728009)  \n",
       "\n",
       "[5 rows x 37 columns]"
      ]
     },
     "execution_count": 604,
     "metadata": {},
     "output_type": "execute_result"
    }
   ],
   "source": [
    "cols = []\n",
    "\n",
    "for colname in data.columns:\n",
    "    cols.append(colname.lower())\n",
    "\n",
    "data.columns = cols\n",
    "\n",
    "for colname in data:\n",
    "     data.columns = data.columns.str.replace(\" \", \"_\")\n",
    "        \n",
    "data.head()"
   ]
  },
  {
   "cell_type": "code",
   "execution_count": 605,
   "id": "1b5a9ab3-23f0-4e74-a97f-d8b1cef1187c",
   "metadata": {},
   "outputs": [],
   "source": [
    "data = data.drop(columns = \"index\")"
   ]
  },
  {
   "cell_type": "code",
   "execution_count": 606,
   "id": "48f374ce-daca-4072-9b3a-e68ee1ded5db",
   "metadata": {},
   "outputs": [
    {
     "data": {
      "text/plain": [
       "project_id                                       object\n",
       "contractor_id                                    object\n",
       "project_county                                   object\n",
       "project_city                                     object\n",
       "project_zip                                       int64\n",
       "climate_zone                                     object\n",
       "weather_station                                   int64\n",
       "weather_station-normalization                     int64\n",
       "project_completion_date                          object\n",
       "customer_type                                    object\n",
       "size_of_home                                    float64\n",
       "volume_of_home                                  float64\n",
       "number_of_units                                 float64\n",
       "year_home_built                                 float64\n",
       "total_project_cost_($)                          float64\n",
       "contractor_incentive_($)                        float64\n",
       "total_incentives_($)                            float64\n",
       "amount_financed_through_program_($)             float64\n",
       "estimated_annual_electric_savings_(kwh)         float64\n",
       "estimated_annual_gas_savings_(mmbtu)            float64\n",
       "estimated_first_year_energy_bill_savings_($)    float64\n",
       "baseline_electric_(kwh)                         float64\n",
       "baseline_gas_(mmbtu)                            float64\n",
       "reporting_electric_(kwh)                        float64\n",
       "reporting_gas_(mmbtu)                           float64\n",
       "evaluated_annual_electric_savings_(kwh)         float64\n",
       "evaluated_annual_gas_savings_(mmbtu)            float64\n",
       "central_hudson                                     bool\n",
       "consolidated_edison                                bool\n",
       "lipa                                               bool\n",
       "national_grid                                      bool\n",
       "national_fuel_gas                                  bool\n",
       "nyseg                                              bool\n",
       "orange_and_rockland                                bool\n",
       "rochester_gas_and_electric                         bool\n",
       "location_1                                       object\n",
       "dtype: object"
      ]
     },
     "execution_count": 606,
     "metadata": {},
     "output_type": "execute_result"
    }
   ],
   "source": [
    "data.dtypes"
   ]
  },
  {
   "cell_type": "code",
   "execution_count": 607,
   "id": "bd0bf301-42d1-4777-beaa-63b5891eaffe",
   "metadata": {},
   "outputs": [],
   "source": [
    "data = data.rename(columns={'total_project_cost_($)': 'total_project_cost', \n",
    "                            'contractor_incentive_($)': 'contractor_incentive',\n",
    "                            'total_incentives_($)': 'total_incentive',\n",
    "                            'amount_financed_through_program_($)': 'amount_financed_through_program',\n",
    "                            'estimated_annual_electric_savings_(kwh)': 'estimated_annual_electric_savings',\n",
    "                            'estimated_annual_gas_savings_(mmbtu)': 'estimated_annual_gas_savings',\n",
    "                            'estimated_first_year_energy_bill_savings_($)': 'estimated_first_year_energy_bill_savings',\n",
    "                            'baseline_electric_(kwh)': 'baseline_electric',\n",
    "                            'baseline_gas_(mmbtu)': 'baseline_gas',\n",
    "                            'reporting_electric_(kwh)': 'reporting_electric',\n",
    "                            'reporting_gas_(mmbtu)': 'reporting_gas',\n",
    "                            'evaluated_annual_electric_savings_(kwh)': 'evaluated_annual_electric_savings',\n",
    "                            'evaluated_annual_gas_savings_(mmbtu)': 'evaluated_annual_gas_savings'})"
   ]
  },
  {
   "cell_type": "code",
   "execution_count": 608,
   "id": "90bddc88-4b9a-4a8e-8f37-68a95ac0cff3",
   "metadata": {},
   "outputs": [
    {
     "data": {
      "text/plain": [
       "Index(['project_id', 'contractor_id', 'project_county', 'project_city',\n",
       "       'project_zip', 'climate_zone', 'weather_station',\n",
       "       'weather_station-normalization', 'project_completion_date',\n",
       "       'customer_type', 'size_of_home', 'volume_of_home', 'number_of_units',\n",
       "       'year_home_built', 'total_project_cost', 'contractor_incentive',\n",
       "       'total_incentive', 'amount_financed_through_program',\n",
       "       'estimated_annual_electric_savings', 'estimated_annual_gas_savings',\n",
       "       'estimated_first_year_energy_bill_savings', 'baseline_electric',\n",
       "       'baseline_gas', 'reporting_electric', 'reporting_gas',\n",
       "       'evaluated_annual_electric_savings', 'evaluated_annual_gas_savings',\n",
       "       'central_hudson', 'consolidated_edison', 'lipa', 'national_grid',\n",
       "       'national_fuel_gas', 'nyseg', 'orange_and_rockland',\n",
       "       'rochester_gas_and_electric', 'location_1'],\n",
       "      dtype='object')"
      ]
     },
     "execution_count": 608,
     "metadata": {},
     "output_type": "execute_result"
    }
   ],
   "source": [
    "data.columns"
   ]
  },
  {
   "cell_type": "markdown",
   "id": "c5bc55d1-041f-4902-81c5-c80659fc1143",
   "metadata": {},
   "source": [
    "# Data columns explained\n",
    "\n",
    "\n",
    "- Project County:\tThe county in which the project was completed.\n",
    "\n",
    "- Project City:\tThe city in which the project was completed. \n",
    "\n",
    "- Project ZIP:\tThe ZIP code in which the project was completed. \n",
    "\n",
    "- Climate Zone:\tProject climate zone. See https://www.energy.gov/eere/buildings/climate-zones for more information. \n",
    "\n",
    "- Weather Station:\tWeather Station United States Air Force (USAF) Identifier closest to the project. \n",
    "\n",
    "- Weather Station-Normalization:\tWeather Station USAF Identifier for weather station used for normalization (may be different from the weather station closest to the project if insufficient weather data).\n",
    "\n",
    "- Project Completion Date:\tThe date the project was completed. \n",
    "\n",
    "- Customer Type:\tIndicates if the homeowner received market rate incentives or assisted subsidy.\n",
    "\n",
    "- Size of Home:\tThe size of the home in which the project was completed. \n",
    "\n",
    "- Volume of Home:\tCubic feet of conditioned space in the home.\n",
    "\n",
    "- Number of Units:\tNumber of units served by the Program. \n",
    "\n",
    "- Year Home Built:\tThe year the home in which the project was completed was built.\n",
    "\n",
    "- Total Project Cost ($):\tThe total cost of the project in US dollars. \n",
    "\n",
    "- Contractor Incentive ($):\tAmount of incentive in US dollars paid directly to the Contractor.\n",
    "\n",
    "- Total Incentives ($):\tAmount of homeowner incentive in US dollars. Zero dollars represent either projects receiving only financing, or Market Rate projects that did not receive an incentive, but still participated in the program to take advantage of working with participating contractors and Quality Assurance benefits. \n",
    "\n",
    "- Amount Financed Through Program ($): Project loan amount in US dollars. If zero, then project was not financed. \n",
    "\n",
    "- Estimated Annual Electric Savings (kWh):\tModeled annual electric savings estimate in kWh per model developed by participating contractor at time of audit. Negative numbers represent projects with post-retrofit increase in electric consumption, typically from fuel conversions or ancillary savings. Blank cells represent data that were not required or are not currently available. \n",
    "\n",
    "- Estimated Annual Gas Savings (MMBtu):\tModeled annual gas savings estimate in MMBtu per model developed by participating contractor at time of audit. Negative numbers represent projects with post-retrofit increase in gas consumption, typically from fuel conversions or ancillary savings. Blank cells represent data that were not required or are not currently available. \n",
    "\n",
    "- Estimated First Year Energy Bill Savings ($):\tEstimated post-retrofit first year dollar savings (USD) from model developed by the contractor at time of audit. Negative numbers represent projects with estimated post-retrofit first year dollar expenses, typically occurring when non-energy work was completed such as health and safety improvements, or when work was done in conjunction with another, net positive energy savings project. Blank cells represent data that were not required or are not currently available. \n",
    "\n",
    "- Baseline Electric (kWh):\tThe modeled, weather normalized electric usage during the baseline period (9 continuous months prior to intervention). Blank cells represent data that were not required or are not currently available.\n",
    "\n",
    "- Baseline Gas (MMBtu):\tThe modeled, weather normalized natural gas usage during the baseline period (9 continuous months prior to intervention). Blank cells represent data that were not required or are not currently available. \n",
    "\n",
    "- Reporting Electric (kWh):\tThe modeled, weather-normalized electric usage during the reporting period (9 continuous months after the intervention). Blank cells represent data that were not required or are not currently available. \n",
    "\n",
    "- Reporting Gas (MMBtu):\tThe modeled, weather-normalized natural gas usage during the reporting period (9 continuous months after the intervention). Blank cells represent data that were not required or are not currently available. \n",
    "\n",
    "- Evaluated Annual Electric Savings (kWh): The modeled, weather normalized annual site-level electric savings (kWh), calculated as pre-retrofit normalized baseline less post-retrofit normalized usage. Negative numbers represent projects with post-retrofit increase in electric consumption, typically from fuel conversions or ancillary savings.\n",
    "\n",
    "- Evaluated Annual Gas Savings (MMBtu):\tThe modeled, weather normalized annual site-level gas savings (MMBtu), calculated as pre-retrofit normalized baseline less post-retrofit normalized usage. Negative numbers represent projects with post-retrofit increase in gas consumption, typically from fuel conversions or ancillary savings.\n",
    "\n",
    "- Central Hudson: Utility for the project, where “True” indicates the project is in the Central Hudson territory. Some homes are served by more than one utility company.\n",
    "\n",
    "- Consolidated Edison: Utility for the project, where “True” indicates the project is in the Consolidated Edison territory. Some homes are served by more than one utility company.\n",
    "\n",
    "- LIPA:\tUtility for the project, where “True” indicates the project is in the Long Island Power Authority (LIPA) territory. Some homes are served by more than one utility company.\n",
    "\n",
    "- National Grid:\tUtility for the project, where “True” indicates the project is in the National Grid territory. Some homes are served by more than one utility company.\n",
    "\n",
    "- National Fuel Gas:\tUtility for the project, where “True” indicates the project is in the National Fuel Gas territory. Some homes are served by more than one utility company.\n",
    "\n",
    "- NYSEG: Utility for the project, where “True” indicates the project is in the New York State Electric and Gas territory. Some homes are served by more than one utility company.\n",
    "\n",
    "- Orange and Rockland: Utility for the project, where “True” indicates the project is in the Orange and Rockland territory. Some homes are served by more than one utility company.\n",
    "\n",
    "- Rochester Gas and Electric: Utility for the project, where “True” indicates the project is in the Rochester Gas and Electric territory. Some homes are served by more than one utility company.\n",
    "\n",
    "- Location 1: Open Data/Socrata-generated geocoding information."
   ]
  },
  {
   "cell_type": "code",
   "execution_count": 609,
   "id": "ee6e801a-c4bd-4707-8415-d2394bf6dffe",
   "metadata": {},
   "outputs": [],
   "source": [
    "# changing datatypes\n",
    "data['project_completion_date'] = pd.to_datetime(data['project_completion_date'])"
   ]
  },
  {
   "cell_type": "code",
   "execution_count": 610,
   "id": "82eb47b8-0616-46b0-9224-f6bcaf2bc9b2",
   "metadata": {},
   "outputs": [
    {
     "name": "stdout",
     "output_type": "stream",
     "text": [
      "size_of_home [2422.  826. 1920. ... 3812. 2102. 2984.]\n",
      "volume_of_home [17602.  5873. 15360. ... 23872.  9928. 22944.]\n",
      "number_of_units [nan  1.  2.  3.  4.]\n",
      "year_home_built [1977. 1890. 1982. 1940. 1954. 1952. 1984. 1975. 1945. 1986. 1840. 1980.\n",
      " 1999. 1972. 1955. 1965. 1985. 1989. 1981. 1976. 1930. 1950. 1800. 1901.\n",
      " 1988. 1926. 1964. 1880. 1993. 1900. 1938. 1910. 1953. 1920. 1998. 1968.\n",
      " 1959. 1815. 1906. 1979. 1995. 1983. 1991. 1962. 1941. 1924. 2002. 1922.\n",
      " 1960. 1994. 1957. 1956. 1970. 1987. 2003. 1915. 1990. 1949. 1943. 1929.\n",
      " 1948. 1974. 1967. 1978. 1963. 1935. 1973. 1958. 1966. 1905. 1875. 1848.\n",
      " 1928. 2001. 1971. 1939.   nan 1932. 1992. 1925. 1961. 1870. 1951. 1919.\n",
      " 1850. 1807. 1865. 1860. 1934. 1947. 1849. 1810. 2004. 1946. 1936. 1931.\n",
      " 1942. 1908. 1907. 1874. 2000. 1923. 1916. 1885. 1834. 1918. 1888. 1912.\n",
      " 1937. 1892. 1969. 1927. 1898. 1883. 1996. 1944. 1917. 1933. 1843. 1866.\n",
      " 1914. 1895. 1921. 1911. 1808. 1897. 2005. 1857. 1820. 1829. 1872. 1836.\n",
      " 1824. 1756. 1909. 1997. 1852. 1887. 1871. 1825. 1889. 1793. 1902. 1844.\n",
      " 2007. 1894. 1891. 1770. 1903. 1913. 1854. 1835. 1881. 1899. 1832. 1856.\n",
      " 1893. 2006. 1877. 1830. 1904. 1805. 1853. 1876. 1878. 1790. 1780. 1862.\n",
      " 2010.]\n",
      "total_project_cost [10000.   20000.   20900.   ... 21483.   16733.65 12676.  ]\n",
      "contractor_incentive [500.   421.    94.5  ... 410.35 424.1  458.8 ]\n",
      "total_incentive [1000.   5000.      0.   ... 2148.3  1384.06 1267.6 ]\n",
      "amount_financed_through_program [    0.   15000.   12568.    2800.    5000.    9206.   20000.    5643.57\n",
      "  5125.    2655.    5976.   10500.   10809.   14746.    5593.    3675.\n",
      " 12952.    8806.    5355.    4568.    3600.    2500.   11500.    5677.\n",
      "  4622.    2400.    4572.   15604.8   4650.   10029.    6297.24 10000.\n",
      " 11361.    7678.    5950.    7750.    9105.    4335.    5089.    6930.\n",
      " 11515.    2612.5   5880.    7346.    3010.    7500.    7886.8   9941.\n",
      "  2904.9   6884.    2670.   19037.    2850.   18772.    3625.   16219.\n",
      " 11410.    6000.    7600.   11000.    4395.5   5274.    7800.    4192.\n",
      "  5865.    9869.    4637.   12215.    3343.    9092.3   3922.5   4440.\n",
      "  4500.    6900.    6730.    8200.    4160.5   7483.   12023.6   5757.\n",
      "  9515.    8141.   13125.    9287.    8694.   11100.    2469.15 17022.\n",
      "  8182.5  11108.    7433.05  5340.    4685.    4300.    7762.   11344.\n",
      "  7000.    6249.71  2635.    4359.   10730.    8700.   16093.    9268.\n",
      "  6283.5   7100.    6634.    5300.   10820.    4615.    3899.    6878.\n",
      "   250.    5639.5  13076.   14300.   12590.    4100.    5565.    3226.\n",
      "  4000.    4805.    5946.56  6350.    3000.    2375.    6010.    8893.\n",
      "  6024.   12389.   11018.   10450.    3971.   16500.    6721.    4662.2\n",
      " 14150.    3017.5   6660.   10074.    6247.43  3515.    7552.    6480.\n",
      " 10112.    9084.    3125.    8658.    1285.    9890.    3800.    8366.\n",
      "  4700.    3850.   15249.    7940.    3975.    3837.6   5598.   14191.\n",
      "  4629.    3350.   13843.86  4572.5   2340.    5200.    6200.    6226.\n",
      "  3160.    7342.75  4350.    3595.    6156.    3250.   12689.    9500.\n",
      "  7450.    4460.    3966.47  8248.    6415.    4882.5   2904.    5750.\n",
      "  7272.    6650.    5825.    4285.    3349.5   9062.    3438.    7360.\n",
      "  2719.    9000.   11597.87  6107.   12480.    8695.   12231.12  8137.\n",
      "  1427.    9900.   11194.    8000.   11743.    4008.24  6867.    4306.\n",
      "  6670.    7693.    2581.5   1450.   14696.    4142.5  18955.   16370.\n",
      "  4191.2   5626.   18277.   10328.    5935.82  3489.5   5100.    3212.5\n",
      " 12697.   14830.99 12079.   14703.    9405.    4136.    5406.    5574.\n",
      " 12466.    4680.    4087.85  5800.   15560.    3069.    3895.5  13928.\n",
      "  7575.    3940.    5078.    9612.    5191.    5185.    3920.    3615.\n",
      "  9652.    4750.    2700.   12497.   12800.   10300.   15136.    4555.\n",
      "  6205.7   4496.35  5084.   19665.    8130.   17590.    6300.    9982.\n",
      " 12885.    3510.   12798.    5925.    7300.    5685.    3400.   11224.\n",
      "  5345.4   7200.   17756.   14816.   10050.   11393.    4623.    6100.\n",
      "  3678.5   3300.    9045.    8491.2  10589.    8774.   14900.    8025.\n",
      " 10661.   11561.   10695.    3966.8   4925.   13120.    4948.    7531.\n",
      "  6160.   12523.   14835.96  5145.    5890.    6320.    3911.    8680.\n",
      "  6485.   16416.    5780.   10400.    7020.    4400.   13531.    4447.5\n",
      "  5975.   10415.    4219.   16530.    2685.84  3769.6   3645.5   3291.88\n",
      "  6732.   14131.    7144.    3839.    4848.   15800.    6435.    9874.\n",
      "  4677.    4495.    9392.    5239.   10850.    3790.    6700.    8218.\n",
      "  2843.75  3887.5   4800.    6913.   14261.    6610.    6468.    7495.\n",
      "  7115.    6748.   11800.   11175.    5649.    2766.    4569.   13744.\n",
      " 13895.    7465.    3194.   18237.    5702.   10130.    2258.    4505.\n",
      "  8765.   13581.    3620.   14772.   11863.    4799.   18500.    2899.\n",
      "  3810.    6758.    4938.5  10015.    7475.    4922.5   3455.   19164.\n",
      " 10701.    5793.    9513.    6995.    3381.   19432.    3643.2   9648.9\n",
      "  3858.3   7479.9  16000.   11936.   10579.5  10854.    7241.4   3743.1\n",
      "  4104.9   6057.    7660.    7485.3   8754.52  8511.3   9892.68 10107.\n",
      "  7920.    5492.    5152.5   6511.5   4745.7   5657.04  8410.    5729.4\n",
      " 10746.01  5733.    7290.   12555.    4176.    4266.    4387.5  12850.\n",
      "  1588.5   6785.    5602.5   4596.5   9022.5   4932.    4520.   11266.2\n",
      " 12089.7  10251.    8067.    8775.   13000.    6719.4   4554.    9525.\n",
      "  5157.    4185.   12810.2   8226.9   8460.   10819.3  12847.5   5086.\n",
      "  4613.5   4770.    6036.    8556.    8042.4  11512.    9382.5   4964.6\n",
      "  8991.16  4644.    4475.   11132.    3500.   16075.16  1325.   14369.7\n",
      " 10016.5   2300.    6210.    6050.   22038.3   3590.    4275.    4950.\n",
      "  7517.7   5805.    9774.6   3025.5  11937.5   4884.9   3996.    4338.\n",
      " 15681.    5317.2   6820.    5274.2   9040.   17330.5   8455.    8370.\n",
      " 17385.    4056.3   4224.6  15116.1   1700.    8587.   13290.    5473.\n",
      " 11404.     552.6   2247.5   4360.5   3919.5  16713.2   9265.    3513.\n",
      " 11477.   16048.    9614.65  3332.5   7665.5  17005.    4352.4  14031.\n",
      "  9472.5   7687.12 10734.9   6273.    3032.1   7433.6   4997.5  19800.\n",
      "  8567.2   6687.    4975.   10139.4   2283.   17697.   24850.   14407.6\n",
      "  6915.    5850.    3363.    5995.9   7090.5   5649.74  7780.89  4690.9\n",
      "  4120.    5398.4   8960.4  14739.4  12038.55  7032.    2066.    2450.\n",
      "  7330.   17731.5   6754.6   3001.5   9601.   10196.1   4684.5  17175.4\n",
      "  7350.   13742.4   2748.5   9119.56  5604.8  11193.58 10453.9   2350.\n",
      "  8231.48  7790.4   3490.    3780.    8720.    9345.52  8838.   15778.23\n",
      " 10315.42 13859.95  4503.6   3982.5   5090.5   9765.   19262.   15217.4\n",
      "  3990.   15995.    5188.75 21985.4  15503.2  16310.   15313.75  9850.\n",
      "  4125.5  18039.6   9156.6   7781.5  12473.5   9685.8   3564.    7673.4\n",
      "  9738.   16823.7  12636.5  10754.8   8442.3  13993.2  13054.1  13869.7\n",
      " 10491.3  17334.7   6481.53]\n",
      "estimated_annual_electric_savings [        nan  5.1800e+02  0.0000e+00  2.2900e+02  2.2640e+03  1.5600e+02\n",
      "  7.4000e+01  6.8800e+02 -1.7000e+01  4.7800e+02  3.8100e+02  5.1900e+02\n",
      "  1.0430e+03  7.2100e+02  7.5300e+02  2.0590e+03  5.0200e+02  1.1160e+03\n",
      "  3.9000e+01  9.8000e+01  5.1000e+01  6.0700e+02  1.3200e+02  2.0000e+01\n",
      "  1.5000e+01  5.7000e+01  1.3000e+01  4.2400e+02  8.5000e+01  4.0000e+02\n",
      "  6.4500e+02  4.8800e+02  1.8530e+03  5.9800e+02  2.1000e+01  8.0000e+00\n",
      "  4.0500e+02  3.8000e+01  1.0050e+03  1.2000e+01  5.8000e+02  6.3000e+01\n",
      "  1.1000e+02  2.7130e+03  7.8000e+01  7.6200e+02  4.4400e+02  1.9430e+03\n",
      "  4.4700e+02  3.2000e+01  5.2000e+01  4.2500e+02  1.4540e+03  1.1620e+03\n",
      "  1.5900e+02  5.0000e+00  1.0540e+03  1.6040e+03  1.8400e+02  6.5400e+02\n",
      "  3.6000e+01 -4.7000e+01  1.2290e+03  4.3000e+02  6.6000e+02  2.2000e+01\n",
      "  1.8000e+01  5.9100e+02  6.0000e+00  1.1300e+02  4.0800e+02  4.5000e+01\n",
      "  8.0900e+02  7.3100e+02  5.0800e+02  1.9420e+03  1.2300e+02  3.2600e+02\n",
      "  1.9400e+02  4.1700e+02  6.9800e+02  8.4900e+02  4.2900e+02  4.0000e+00\n",
      "  7.0000e+00  7.6000e+01  1.7000e+01  9.0000e+00  4.0400e+02  8.0000e+02\n",
      "  1.0990e+03  5.2100e+02  5.7100e+02  8.7100e+02  4.9300e+02  1.9700e+02\n",
      "  1.1990e+03  2.7000e+02  9.5000e+01  9.0800e+02  1.1330e+03  5.3000e+01\n",
      "  1.1430e+03  1.4490e+03  4.4000e+02  1.5040e+03  1.5910e+03  5.0900e+02\n",
      "  1.8370e+03  1.1400e+02 -1.6900e+02  2.9500e+02 -2.0000e+00  3.0000e+01\n",
      "  5.6000e+01  2.9600e+02  5.6800e+02  1.4880e+03  1.4800e+03  2.7100e+02\n",
      "  9.4200e+02  4.8300e+02  1.0000e+01  4.3100e+02  1.5000e+03  4.5200e+02\n",
      "  3.2900e+02  8.6000e+01  2.4000e+01  8.7900e+02  6.9000e+02  1.0310e+03\n",
      "  5.5000e+01  5.8100e+02  4.4000e+01  4.1500e+02  6.2700e+02  5.2500e+02\n",
      "  2.5800e+02  1.0000e+00  6.1500e+02  8.5800e+02  9.2900e+02  6.2300e+02\n",
      "  1.1070e+03  1.3700e+02  6.5800e+02  4.7400e+02  5.4100e+02  3.1000e+01\n",
      "  4.9700e+02  5.3200e+02  1.5240e+03  1.0340e+03  5.6500e+02  4.7000e+02\n",
      "  5.9200e+02  1.1100e+03  3.0000e+00  2.3600e+02  3.1040e+03  9.2700e+02\n",
      "  2.7000e+01  8.2000e+01  4.8400e+02  6.2800e+02  2.0300e+02  4.3600e+02\n",
      "  4.1400e+02  1.4960e+03  7.0000e+01  1.5110e+03  5.4000e+02  1.1700e+02\n",
      "  1.0150e+03  4.9800e+02  7.7000e+01  7.0500e+02  1.0400e+02  2.6000e+02\n",
      "  5.0000e+01  8.1800e+02 -1.4200e+02  4.7010e+03  4.6000e+01  7.2000e+02\n",
      "  6.3600e+02  1.4100e+02  5.4500e+02  5.8200e+02  3.4000e+01  5.7400e+02\n",
      "  6.0200e+02  9.1400e+02  1.3400e+02  5.9000e+01  1.4500e+02  1.3080e+03\n",
      "  1.6740e+03  8.6000e+02  2.1140e+03  2.9400e+02  5.8000e+01  1.1200e+02\n",
      "  1.6000e+01  4.4800e+02  1.0000e+03  9.8100e+02  5.2200e+02  1.0000e+02\n",
      "  6.1590e+03  3.5000e+01  4.3000e+01  1.2810e+03  6.4000e+01  2.3400e+02\n",
      "  2.3930e+03  1.2400e+02  4.0600e+02  6.5600e+02  5.2460e+03  8.3900e+02\n",
      "  2.2400e+02  1.0290e+03  1.0580e+03  8.0100e+02  6.0000e+01  7.0400e+02\n",
      "  3.4700e+02  2.1200e+02  1.7290e+03  4.0000e+01  7.2400e+02  9.3000e+02\n",
      "  3.6800e+02  1.1200e+03  5.7500e+02  1.4400e+03  9.2100e+02  4.7900e+02\n",
      "  6.5490e+03  3.9800e+02  9.7000e+01  1.0790e+03  1.0900e+02  5.7300e+02\n",
      "  6.6900e+02  1.4780e+03  3.5400e+02  3.4680e+03  1.2030e+03  1.1390e+03\n",
      "  1.3800e+02  1.1860e+03  4.5600e+02  9.2000e+01  6.2500e+02  1.0760e+03\n",
      "  1.4000e+02  8.7000e+01  6.0600e+02  2.9900e+02  1.6350e+03  3.3000e+02\n",
      " -1.1000e+01  1.8060e+03  1.6830e+03  8.9400e+02  1.2200e+02  7.8600e+02\n",
      "  4.0900e+02  4.3700e+02  4.1600e+02  1.5840e+03  8.5100e+02  1.0350e+03\n",
      "  2.5500e+02  1.6410e+03  1.8040e+03  9.6600e+02  2.2300e+02  3.6900e+02\n",
      "  8.8400e+02  2.0000e+02  2.5720e+03  8.6200e+02  1.6800e+02 -9.0000e+00\n",
      "  1.3180e+03  1.4520e+03  1.2160e+03  1.4930e+03  3.1390e+03  2.4190e+03\n",
      "  1.2700e+02  2.6700e+02  1.0810e+03  7.3000e+02  4.0870e+03  1.8200e+02\n",
      "  4.0100e+02  3.3300e+02  4.2600e+02  1.5850e+03  1.7230e+03  6.7000e+02\n",
      "  1.3100e+02  4.7000e+01  1.7850e+03  9.9200e+02  7.1300e+02  7.4000e+02\n",
      "  4.2300e+02  3.5300e+02  2.4900e+02  8.2200e+02  5.0400e+02  9.0000e+02\n",
      "  6.4700e+02  1.0040e+03  6.9900e+02  1.7270e+03  4.1300e+02 -1.8900e+02\n",
      "  1.3890e+03  1.0370e+03  2.7400e+02  9.8600e+02  6.5000e+01  1.5440e+03\n",
      "  3.0100e+02  1.5200e+02  1.4610e+03 -2.1000e+01  1.5500e+02 -1.2000e+01\n",
      "  1.1530e+03  1.8580e+03  1.2330e+03  4.1000e+01  1.8820e+03  9.1600e+02\n",
      "  1.2350e+03  1.0360e+03  3.1000e+02  6.5100e+02  4.6700e+02  4.6800e+03\n",
      "  7.4300e+02  5.4560e+03  4.9200e+02  2.0240e+03  1.4380e+03  1.2000e+02\n",
      "  1.3820e+03  7.1000e+02  1.2710e+03  2.0000e+00  6.7400e+02  1.0100e+02\n",
      "  2.5000e+01  1.3300e+02  2.6000e+01  2.3300e+02  1.7720e+03  4.1200e+02\n",
      "  2.9000e+01  2.5100e+02  5.4000e+01  2.6600e+02 -1.0000e+00  7.3000e+01\n",
      "  1.8300e+02  1.1940e+03  1.0630e+03  1.0500e+02  2.2600e+02  7.2000e+01\n",
      "  1.1600e+02  3.0700e+02  8.2500e+02  7.7800e+02  9.2600e+02  6.6100e+02\n",
      "  7.1400e+02  6.4500e+03  1.2900e+02  4.9000e+01  9.9000e+01  4.9400e+02\n",
      "  9.3000e+01  2.4100e+02  8.0500e+02  1.1410e+03 -1.0624e+04  5.1470e+03\n",
      "  4.5300e+02  7.6300e+02  1.4340e+03  9.1000e+01  5.2900e+02  1.2000e+03\n",
      "  2.5000e+02  2.3800e+03  1.6500e+02  4.0480e+03  8.4000e+02  7.9900e+02\n",
      "  1.4910e+03  1.3360e+03  6.2000e+01  6.8400e+02  1.1950e+03  1.9840e+03\n",
      "  7.5000e+01  7.1800e+02  7.6000e+02  5.1500e+02  1.2320e+03  6.7000e+01\n",
      "  6.6700e+02  7.7860e+03  6.7200e+02  2.0870e+03  6.8000e+01  1.3440e+03\n",
      "  1.9490e+03  1.1230e+03  1.3400e+03  1.0200e+02  1.1800e+02  2.0100e+02\n",
      "  6.0400e+02  8.1000e+01  1.1100e+02  1.0510e+03  1.0820e+03  2.5600e+02\n",
      "  2.0570e+03  1.7300e+02]\n",
      "estimated_annual_gas_savings [   nan  22.31  25.5   57.54  28.9  132.47  30.36   5.53  12.32  18.37\n",
      "  31.01  58.86  96.41  12.72  24.24  14.37   1.08   1.67  26.44  58.22\n",
      "  41.43  32.76  24.     1.61  41.48  38.21  27.56  26.49  53.62  38.97\n",
      "  21.47  72.31  47.08   6.91  33.8   59.81  16.35  19.07   7.44   4.94\n",
      "  28.42  19.99  40.85  16.11  19.43  67.04  13.89  60.95  15.41  38.33\n",
      "  19.13  36.34  84.03  31.    76.63  24.02  16.44  10.54  25.76   5.24\n",
      "   2.57   1.95  39.3   27.71  66.99   1.38   4.69  16.23  42.65   6.86\n",
      "   0.    25.42   2.75  30.68  54.63  52.04  32.91  31.14   6.69  32.37\n",
      "  30.94  23.04   1.6   57.92  46.69  28.94  28.25  14.3   24.3   29.18\n",
      "  20.51   3.34   0.33  50.98  28.04   5.15  27.67  37.89  33.92  19.63\n",
      "  27.27  23.11  26.99  13.83  43.82   9.33  26.14  48.49  16.74  39.46\n",
      "   3.67  36.5   18.53  15.51  17.99   6.33  24.09  24.61  13.01  83.25\n",
      " 170.23   7.55  27.85   7.46  48.33 104.58  49.39  40.91  18.95  11.01\n",
      "  55.39  23.76  55.34   6.22  76.91  73.39  36.74  38.79  29.72  25.93\n",
      "  59.46  16.37  18.83  26.27  23.18  18.26   1.19  53.2   15.3   84.16\n",
      "  26.06  29.42  17.94   4.67  26.69  15.77  26.46  32.04   8.66  15.38\n",
      "  36.28  47.01  53.98  33.    28.99  39.27  64.18  25.56  26.55  17.13\n",
      "   6.27  70.72  85.91   1.45  18.06  15.05  72.82  41.54  22.84  27.24\n",
      "  52.74  64.95  54.67  59.65  40.71  18.66   9.2   54.51  16.88   1.83\n",
      "  16.59  12.43  47.33  18.08  34.91  49.1    2.6   35.67   9.44  37.28\n",
      "  23.61   1.18  29.76  11.1   26.09  28.76  47.02  37.73  17.75  50.46\n",
      "  59.94  17.23  26.87   4.08  22.77  21.13   3.06   7.5   30.31  10.55\n",
      "  14.95  36.08  26.92  30.27  65.71  45.23   5.99  57.57  54.19  14.4\n",
      "  47.95  22.19  22.96  29.58  10.26  13.51  56.39   1.21  21.58 126.42\n",
      "   3.68  52.44  50.7   72.44   4.01  40.21  22.68  23.35  55.3   39.74\n",
      "  26.19  21.93  61.11  24.86  24.03  29.78  29.21  15.46  31.9   47.05\n",
      "  39.47  13.96  14.96  17.56  46.     3.59  33.04  56.99  20.    29.91\n",
      "  18.04  39.57  52.18  20.15  16.78  15.37  19.83  54.42  15.78  27.45\n",
      "  13.98   4.74  20.6   21.72   3.22  11.77  10.4    3.7   27.48  14.69\n",
      "  33.43   6.59  21.63  50.5  143.71  59.82  29.     5.26  24.05  11.33\n",
      "  59.56  36.8   56.13  35.88  14.87  66.14  37.68  64.29  71.96  76.76\n",
      "  10.8    4.6   17.25  69.29   1.92  97.3   48.84  39.49  27.07  16.51\n",
      "  11.59  10.64  24.6   13.63   4.82  44.95  39.82  26.59  26.45   5.84\n",
      "  33.91  55.52  65.45  29.55  32.14  40.11  57.05  18.87  19.6    6.62\n",
      "  30.53  27.11  59.95  22.54  73.59   9.04   8.43  26.54   4.99  29.05\n",
      "  34.19  25.11  17.93   6.37  43.19  29.28  58.88  35.33  18.73  37.35\n",
      "  13.18  16.94  45.84  41.41  36.59  35.8   57.58  22.66  11.74   5.12\n",
      "   7.94  46.63  54.27  61.78  42.72  29.14  77.66  32.75  76.66  17.1\n",
      "   4.     5.13  32.63  14.76  68.68  77.07  49.4   16.13  19.93  51.17\n",
      "  52.9   57.82  18.79  50.9   13.9   20.52  22.91  25.43  39.38  51.36\n",
      "  73.11   4.98  26.68  59.47  19.55  59.36  10.87  61.46  43.84  26.89\n",
      "  23.15  54.85  22.73  23.09  44.82  88.22  33.36  18.71  44.31  28.7\n",
      "  31.11  18.24  66.74  34.3   98.61  24.33  17.85  47.86  20.41  51.1\n",
      "  13.39  48.91  20.82   8.19   1.32  38.46  25.26  31.55  21.76  56.62\n",
      "  20.87  30.47  86.32  20.16  10.22  25.31  49.2    9.46  23.1   41.17\n",
      "  83.35  16.86  19.59   6.79  22.46  38.94  44.49  50.22   2.42   1.15\n",
      "   3.41  31.65  24.76  55.56  71.36  45.39  54.09  13.36  49.66  40.02\n",
      "   3.1    2.82  64.07  24.39  13.34   0.77  56.55  13.08  66.97  51.05\n",
      "   5.16  53.54  57.14  40.1   37.42  19.79  37.63  26.05  15.92  20.27\n",
      "  32.5    7.49  59.42  39.93  30.35   1.66  25.21  27.62  21.17  24.63\n",
      "   1.69  12.31 -25.84   8.54   9.71  28.    13.14  23.75  36.92  28.86\n",
      "  21.8   27.83  20.07  25.44  34.07  20.97  21.92 129.47  41.26  28.74\n",
      "  40.27  18.    45.56  14.    15.02   8.79  64.45  23.79  31.92  27.77\n",
      "   4.03  42.    16.01  12.27  33.9   28.09  28.16  17.63  18.54  55.87\n",
      "  45.62  14.93  52.96  68.35   7.96  23.53  40.12  18.57  94.36  39.12\n",
      "  43.88  33.05  42.39  26.67  25.24  32.51  69.82  20.09  17.73  12.12\n",
      "  22.88  32.53  19.87   0.43  46.79  19.88  20.57  40.7   44.1   30.74\n",
      "  74.82  80.88  49.36  42.14  37.54  85.41  12.73  21.15  14.83  63.6\n",
      "  28.08  18.01  20.67  16.65  58.32  32.9   60.47  36.18  24.72  47.5\n",
      "  48.35  40.06  20.79  46.12  75.46  14.5   42.85  55.83  13.13  20.91\n",
      "  17.09  24.68  27.68  64.61 141.26  11.62  67.95  12.8   75.65  24.17\n",
      "  74.76  16.61  16.49  41.93  14.92  18.15  21.49 131.24  60.43   8.8\n",
      "  67.07  47.18  28.14  28.82  67.21  70.03 153.33  32.31  58.77  33.39\n",
      "  14.19  47.52  40.92   8.08  47.76  66.76  23.95  11.43  69.36  11.29\n",
      "  17.06  20.85   8.57  44.78  44.    38.75  45.97  49.19  39.83  21.62\n",
      "  77.16  35.91  67.3   34.23  26.13  18.9   17.41  23.8   82.34  35.66\n",
      "  14.84  24.53  38.45  17.66  79.59  22.53  23.06  16.34  24.8   17.96\n",
      "  18.41  95.79  47.17  24.07 101.45  18.8   24.2   44.2   41.62  48.44\n",
      "  24.26  36.25  61.83   1.41  49.72  58.94   8.44  17.81  15.63  32.17\n",
      "   8.51  19.41  42.47  27.75  56.74  71.5   22.99  44.72  33.32  28.45\n",
      "  32.7   34.36  32.95  38.81  42.82  28.36 106.13  57.33   9.01  85.97\n",
      "  34.94  21.78  10.92  63.99  39.    22.87  19.94  70.97  40.82  14.9\n",
      "  52.13  24.48  47.55  38.6   26.04 126.39  63.19  19.65  63.11  28.02\n",
      "  31.22   2.77  52.93   8.31  71.72  25.62  24.98  15.52  40.36  21.77\n",
      "  16.66  41.58  44.08  31.43 193.21  16.7   19.2   27.78   6.39  31.68\n",
      "  14.04  97.81  34.54  12.02  49.98  39.65  20.24  76.44  12.41  43.08\n",
      "  71.25  25.39  27.42  59.01  24.62  55.09  23.25  47.97   9.45  62.18\n",
      "  55.77  49.62  87.47  70.6   35.86  26.56  65.03 133.66  49.64  40.88\n",
      "  13.61  24.9   65.92  91.73  59.74  29.66  18.55 110.52 100.63  58.2\n",
      "  49.49  34.63  42.49  82.98  43.36  59.05  78.64  17.02  26.86  53.55\n",
      "  38.16  33.57  23.82  53.68  94.29  32.08  30.29  78.7  136.17  86.66\n",
      "  11.64  30.6   52.34  13.16  50.59 106.    27.63  20.46  29.73  19.74\n",
      "  24.41  27.64  50.65   5.82  21.2   27.25  12.93  47.16 172.57  14.29\n",
      "  20.01  14.44  22.22  33.82  52.83  34.55  30.84  37.17  29.2    9.12\n",
      "  71.11  53.53  43.18  31.15  20.72   8.83  28.64  36.89  92.06  44.12\n",
      "  19.56  47.45  23.57  43.3    8.87  48.5   72.93  20.43  28.19  85.25\n",
      "  42.13  35.69  67.89  75.44  16.54  80.11  96.8   26.94  30.07  41.31\n",
      "  25.01  63.33   5.1   28.43  15.59  35.49  45.08  23.22  28.31   6.57\n",
      "  12.89  60.91   8.61  62.26 105.01  35.55  24.12  32.35  36.75  12.76\n",
      "  76.74  24.15  43.37  16.03  41.73  29.38  14.62  20.58  31.67  23.33\n",
      "   6.28  42.09  44.57  71.18  31.73  67.88 101.08  37.71  10.33  19.36\n",
      "  30.65  17.89  14.94  42.68  12.36  31.02  45.59  12.87  26.3   35.4\n",
      "  14.63  32.86  29.81  55.     9.73  25.28 119.58 105.53  16.57  17.47\n",
      "  14.33  12.65  52.26  82.22  57.78  74.88  37.88  54.61  20.1   21.82\n",
      "  25.4   81.19  18.3   35.12  40.79   9.78  32.89  16.1   14.97  23.41\n",
      "   7.03  11.63  32.36  25.82  11.61  24.96  13.1   75.37  46.58  51.48\n",
      "  44.7   44.52  12.62  22.65  62.07  36.15 124.24   6.11  79.39  27.84\n",
      "  35.98  29.43  23.7   18.52  46.7   21.73  45.67  92.56  43.05  67.84\n",
      "  22.43  17.95  64.25  52.52  24.04  33.59  47.2   49.82   5.72  44.83\n",
      "  17.22]\n",
      "estimated_first_year_energy_bill_savings [ 580.52 2329.59  236.7  ... 2657.72  500.66 1474.22]\n",
      "baseline_electric [11535.6  24581.05  6967.74 ... 10498.95  5718.22  8364.4 ]\n",
      "baseline_gas [  0.    72.58  91.65 ...  89.31 164.15  11.59]\n",
      "reporting_electric [10484.28 15336.66  7857.65 ... 10957.5   4582.21  7101.13]\n",
      "reporting_gas [  0.    76.88  97.36 ... 151.56  88.57  10.04]\n",
      "evaluated_annual_electric_savings [1051.32 9244.4  -889.91 ... -458.55 1136.01 1263.27]\n",
      "evaluated_annual_gas_savings [ 0.   -4.3  -5.72 ... 12.59  4.35  1.54]\n"
     ]
    }
   ],
   "source": [
    "##Checking if the floats are really floats or rather integers\n",
    "\n",
    "for column in data.columns:\n",
    "    if data[column].dtype == 'float64':\n",
    "        print(column, data[column].unique())"
   ]
  },
  {
   "cell_type": "code",
   "execution_count": 611,
   "id": "20031f75-f657-4b12-b122-2e9d6ed86f57",
   "metadata": {},
   "outputs": [],
   "source": [
    "##data['year_home_built'] = data['year_home_built'].astype(int) -> done later since it is containing NANs"
   ]
  },
  {
   "cell_type": "code",
   "execution_count": 612,
   "id": "3030de6c-4c90-4b44-a088-872f435f68fd",
   "metadata": {},
   "outputs": [],
   "source": [
    "##data['number_of_units'] = data['number_of_units'].astype(int) -> done later since it is containing NANs"
   ]
  },
  {
   "cell_type": "code",
   "execution_count": 613,
   "id": "ccad0c83-9b49-42f8-8fdc-b6ebe7580e47",
   "metadata": {},
   "outputs": [
    {
     "data": {
      "text/plain": [
       "project_id                                     0\n",
       "contractor_id                                  0\n",
       "project_county                                 0\n",
       "project_city                                   0\n",
       "project_zip                                    0\n",
       "climate_zone                                   0\n",
       "weather_station                                0\n",
       "weather_station-normalization                  0\n",
       "project_completion_date                        0\n",
       "customer_type                                  0\n",
       "size_of_home                                   1\n",
       "volume_of_home                                 1\n",
       "number_of_units                              187\n",
       "year_home_built                               91\n",
       "total_project_cost                             0\n",
       "contractor_incentive                           0\n",
       "total_incentive                                0\n",
       "amount_financed_through_program                0\n",
       "estimated_annual_electric_savings           2566\n",
       "estimated_annual_gas_savings                2566\n",
       "estimated_first_year_energy_bill_savings       0\n",
       "baseline_electric                              0\n",
       "baseline_gas                                   0\n",
       "reporting_electric                             0\n",
       "reporting_gas                                  0\n",
       "evaluated_annual_electric_savings              0\n",
       "evaluated_annual_gas_savings                   0\n",
       "central_hudson                                 0\n",
       "consolidated_edison                            0\n",
       "lipa                                           0\n",
       "national_grid                                  0\n",
       "national_fuel_gas                              0\n",
       "nyseg                                          0\n",
       "orange_and_rockland                            0\n",
       "rochester_gas_and_electric                     0\n",
       "location_1                                     0\n",
       "dtype: int64"
      ]
     },
     "execution_count": 613,
     "metadata": {},
     "output_type": "execute_result"
    }
   ],
   "source": [
    "data.isna().sum()"
   ]
  },
  {
   "cell_type": "markdown",
   "id": "b45712ac-da93-43da-87cd-53a013a57f09",
   "metadata": {},
   "source": [
    "The columns estimated_annual_electric_savings_(kwh), estimated_annual_gas_savings_(mmbtu) are estimations\n",
    "I'm considering to drop the columns since they might night be needed for further analysis \n",
    "--> evaluated_annual_electric_savings_(kwh) and evaluated_annual_gas_savings_(mmbtu) will be my columns for any predictions\n"
   ]
  },
  {
   "cell_type": "code",
   "execution_count": 614,
   "id": "9270983b-39d7-4b48-929b-4ad659dd2016",
   "metadata": {},
   "outputs": [
    {
     "data": {
      "text/html": [
       "<div>\n",
       "<style scoped>\n",
       "    .dataframe tbody tr th:only-of-type {\n",
       "        vertical-align: middle;\n",
       "    }\n",
       "\n",
       "    .dataframe tbody tr th {\n",
       "        vertical-align: top;\n",
       "    }\n",
       "\n",
       "    .dataframe thead th {\n",
       "        text-align: right;\n",
       "    }\n",
       "</style>\n",
       "<table border=\"1\" class=\"dataframe\">\n",
       "  <thead>\n",
       "    <tr style=\"text-align: right;\">\n",
       "      <th></th>\n",
       "      <th>project_zip</th>\n",
       "      <th>weather_station</th>\n",
       "      <th>weather_station-normalization</th>\n",
       "      <th>project_completion_date</th>\n",
       "      <th>size_of_home</th>\n",
       "      <th>volume_of_home</th>\n",
       "      <th>number_of_units</th>\n",
       "      <th>year_home_built</th>\n",
       "      <th>total_project_cost</th>\n",
       "      <th>contractor_incentive</th>\n",
       "      <th>...</th>\n",
       "      <th>amount_financed_through_program</th>\n",
       "      <th>estimated_annual_electric_savings</th>\n",
       "      <th>estimated_annual_gas_savings</th>\n",
       "      <th>estimated_first_year_energy_bill_savings</th>\n",
       "      <th>baseline_electric</th>\n",
       "      <th>baseline_gas</th>\n",
       "      <th>reporting_electric</th>\n",
       "      <th>reporting_gas</th>\n",
       "      <th>evaluated_annual_electric_savings</th>\n",
       "      <th>evaluated_annual_gas_savings</th>\n",
       "    </tr>\n",
       "  </thead>\n",
       "  <tbody>\n",
       "    <tr>\n",
       "      <th>count</th>\n",
       "      <td>3652.000000</td>\n",
       "      <td>3652.000000</td>\n",
       "      <td>3652.000000</td>\n",
       "      <td>3652</td>\n",
       "      <td>3651.000000</td>\n",
       "      <td>3651.000000</td>\n",
       "      <td>3465.000000</td>\n",
       "      <td>3561.000000</td>\n",
       "      <td>3652.000000</td>\n",
       "      <td>3652.000000</td>\n",
       "      <td>...</td>\n",
       "      <td>3652.000000</td>\n",
       "      <td>1086.000000</td>\n",
       "      <td>1086.000000</td>\n",
       "      <td>3652.000000</td>\n",
       "      <td>3652.000000</td>\n",
       "      <td>3652.000000</td>\n",
       "      <td>3652.000000</td>\n",
       "      <td>3652.000000</td>\n",
       "      <td>3652.000000</td>\n",
       "      <td>3652.000000</td>\n",
       "    </tr>\n",
       "    <tr>\n",
       "      <th>mean</th>\n",
       "      <td>13446.686473</td>\n",
       "      <td>738613.924425</td>\n",
       "      <td>726181.952355</td>\n",
       "      <td>2009-08-12 13:20:02.628696576</td>\n",
       "      <td>1952.940838</td>\n",
       "      <td>15637.539578</td>\n",
       "      <td>1.033478</td>\n",
       "      <td>1949.976411</td>\n",
       "      <td>7924.819578</td>\n",
       "      <td>351.585641</td>\n",
       "      <td>...</td>\n",
       "      <td>1557.642894</td>\n",
       "      <td>403.046041</td>\n",
       "      <td>34.400783</td>\n",
       "      <td>657.592823</td>\n",
       "      <td>6282.483634</td>\n",
       "      <td>61.417612</td>\n",
       "      <td>6025.027240</td>\n",
       "      <td>53.369770</td>\n",
       "      <td>257.456347</td>\n",
       "      <td>8.047883</td>\n",
       "    </tr>\n",
       "    <tr>\n",
       "      <th>min</th>\n",
       "      <td>10027.000000</td>\n",
       "      <td>724988.000000</td>\n",
       "      <td>725020.000000</td>\n",
       "      <td>2007-06-09 00:00:00</td>\n",
       "      <td>520.000000</td>\n",
       "      <td>4160.000000</td>\n",
       "      <td>1.000000</td>\n",
       "      <td>1756.000000</td>\n",
       "      <td>500.000000</td>\n",
       "      <td>0.000000</td>\n",
       "      <td>...</td>\n",
       "      <td>0.000000</td>\n",
       "      <td>-10624.000000</td>\n",
       "      <td>-25.840000</td>\n",
       "      <td>1.190000</td>\n",
       "      <td>0.000000</td>\n",
       "      <td>0.000000</td>\n",
       "      <td>0.000000</td>\n",
       "      <td>0.000000</td>\n",
       "      <td>-14674.330000</td>\n",
       "      <td>-180.170000</td>\n",
       "    </tr>\n",
       "    <tr>\n",
       "      <th>25%</th>\n",
       "      <td>13084.000000</td>\n",
       "      <td>725190.000000</td>\n",
       "      <td>725190.000000</td>\n",
       "      <td>2008-02-19 00:00:00</td>\n",
       "      <td>1365.500000</td>\n",
       "      <td>10816.000000</td>\n",
       "      <td>1.000000</td>\n",
       "      <td>1938.000000</td>\n",
       "      <td>4425.750000</td>\n",
       "      <td>215.000000</td>\n",
       "      <td>...</td>\n",
       "      <td>0.000000</td>\n",
       "      <td>0.000000</td>\n",
       "      <td>17.765000</td>\n",
       "      <td>261.725000</td>\n",
       "      <td>0.000000</td>\n",
       "      <td>0.000000</td>\n",
       "      <td>0.000000</td>\n",
       "      <td>0.000000</td>\n",
       "      <td>-238.692500</td>\n",
       "      <td>0.000000</td>\n",
       "    </tr>\n",
       "    <tr>\n",
       "      <th>50%</th>\n",
       "      <td>13492.000000</td>\n",
       "      <td>725196.000000</td>\n",
       "      <td>725280.000000</td>\n",
       "      <td>2008-11-06 00:00:00</td>\n",
       "      <td>1792.000000</td>\n",
       "      <td>14208.000000</td>\n",
       "      <td>1.000000</td>\n",
       "      <td>1955.000000</td>\n",
       "      <td>6866.000000</td>\n",
       "      <td>345.050000</td>\n",
       "      <td>...</td>\n",
       "      <td>0.000000</td>\n",
       "      <td>81.500000</td>\n",
       "      <td>28.335000</td>\n",
       "      <td>514.390000</td>\n",
       "      <td>5854.620000</td>\n",
       "      <td>65.330000</td>\n",
       "      <td>5646.685000</td>\n",
       "      <td>56.310000</td>\n",
       "      <td>0.000000</td>\n",
       "      <td>0.000000</td>\n",
       "    </tr>\n",
       "    <tr>\n",
       "      <th>75%</th>\n",
       "      <td>14216.000000</td>\n",
       "      <td>725280.000000</td>\n",
       "      <td>725280.000000</td>\n",
       "      <td>2011-01-29 00:00:00</td>\n",
       "      <td>2320.000000</td>\n",
       "      <td>18432.000000</td>\n",
       "      <td>1.000000</td>\n",
       "      <td>1970.000000</td>\n",
       "      <td>10114.250000</td>\n",
       "      <td>500.000000</td>\n",
       "      <td>...</td>\n",
       "      <td>0.000000</td>\n",
       "      <td>654.000000</td>\n",
       "      <td>46.090000</td>\n",
       "      <td>890.985000</td>\n",
       "      <td>9411.177500</td>\n",
       "      <td>105.637500</td>\n",
       "      <td>9136.332500</td>\n",
       "      <td>90.932500</td>\n",
       "      <td>631.390000</td>\n",
       "      <td>15.482500</td>\n",
       "    </tr>\n",
       "    <tr>\n",
       "      <th>max</th>\n",
       "      <td>14905.000000</td>\n",
       "      <td>998435.000000</td>\n",
       "      <td>744865.000000</td>\n",
       "      <td>2014-11-18 00:00:00</td>\n",
       "      <td>10260.000000</td>\n",
       "      <td>82080.000000</td>\n",
       "      <td>4.000000</td>\n",
       "      <td>2010.000000</td>\n",
       "      <td>44245.000000</td>\n",
       "      <td>1050.000000</td>\n",
       "      <td>...</td>\n",
       "      <td>24850.000000</td>\n",
       "      <td>7786.000000</td>\n",
       "      <td>193.210000</td>\n",
       "      <td>5919.870000</td>\n",
       "      <td>62852.130000</td>\n",
       "      <td>1775.140000</td>\n",
       "      <td>42520.660000</td>\n",
       "      <td>1688.410000</td>\n",
       "      <td>47128.950000</td>\n",
       "      <td>184.510000</td>\n",
       "    </tr>\n",
       "    <tr>\n",
       "      <th>std</th>\n",
       "      <td>937.275460</td>\n",
       "      <td>58095.832440</td>\n",
       "      <td>4102.042915</td>\n",
       "      <td>NaN</td>\n",
       "      <td>859.198027</td>\n",
       "      <td>7055.811599</td>\n",
       "      <td>0.199680</td>\n",
       "      <td>31.266775</td>\n",
       "      <td>4730.480340</td>\n",
       "      <td>176.284916</td>\n",
       "      <td>...</td>\n",
       "      <td>3725.555316</td>\n",
       "      <td>802.562307</td>\n",
       "      <td>25.055760</td>\n",
       "      <td>584.244384</td>\n",
       "      <td>5799.134851</td>\n",
       "      <td>68.076213</td>\n",
       "      <td>5384.987399</td>\n",
       "      <td>60.347944</td>\n",
       "      <td>2136.918253</td>\n",
       "      <td>19.203009</td>\n",
       "    </tr>\n",
       "  </tbody>\n",
       "</table>\n",
       "<p>8 rows × 21 columns</p>\n",
       "</div>"
      ],
      "text/plain": [
       "        project_zip  weather_station  weather_station-normalization  \\\n",
       "count   3652.000000      3652.000000                    3652.000000   \n",
       "mean   13446.686473    738613.924425                  726181.952355   \n",
       "min    10027.000000    724988.000000                  725020.000000   \n",
       "25%    13084.000000    725190.000000                  725190.000000   \n",
       "50%    13492.000000    725196.000000                  725280.000000   \n",
       "75%    14216.000000    725280.000000                  725280.000000   \n",
       "max    14905.000000    998435.000000                  744865.000000   \n",
       "std      937.275460     58095.832440                    4102.042915   \n",
       "\n",
       "             project_completion_date  size_of_home  volume_of_home  \\\n",
       "count                           3652   3651.000000     3651.000000   \n",
       "mean   2009-08-12 13:20:02.628696576   1952.940838    15637.539578   \n",
       "min              2007-06-09 00:00:00    520.000000     4160.000000   \n",
       "25%              2008-02-19 00:00:00   1365.500000    10816.000000   \n",
       "50%              2008-11-06 00:00:00   1792.000000    14208.000000   \n",
       "75%              2011-01-29 00:00:00   2320.000000    18432.000000   \n",
       "max              2014-11-18 00:00:00  10260.000000    82080.000000   \n",
       "std                              NaN    859.198027     7055.811599   \n",
       "\n",
       "       number_of_units  year_home_built  total_project_cost  \\\n",
       "count      3465.000000      3561.000000         3652.000000   \n",
       "mean          1.033478      1949.976411         7924.819578   \n",
       "min           1.000000      1756.000000          500.000000   \n",
       "25%           1.000000      1938.000000         4425.750000   \n",
       "50%           1.000000      1955.000000         6866.000000   \n",
       "75%           1.000000      1970.000000        10114.250000   \n",
       "max           4.000000      2010.000000        44245.000000   \n",
       "std           0.199680        31.266775         4730.480340   \n",
       "\n",
       "       contractor_incentive  ...  amount_financed_through_program  \\\n",
       "count           3652.000000  ...                      3652.000000   \n",
       "mean             351.585641  ...                      1557.642894   \n",
       "min                0.000000  ...                         0.000000   \n",
       "25%              215.000000  ...                         0.000000   \n",
       "50%              345.050000  ...                         0.000000   \n",
       "75%              500.000000  ...                         0.000000   \n",
       "max             1050.000000  ...                     24850.000000   \n",
       "std              176.284916  ...                      3725.555316   \n",
       "\n",
       "       estimated_annual_electric_savings  estimated_annual_gas_savings  \\\n",
       "count                        1086.000000                   1086.000000   \n",
       "mean                          403.046041                     34.400783   \n",
       "min                        -10624.000000                    -25.840000   \n",
       "25%                             0.000000                     17.765000   \n",
       "50%                            81.500000                     28.335000   \n",
       "75%                           654.000000                     46.090000   \n",
       "max                          7786.000000                    193.210000   \n",
       "std                           802.562307                     25.055760   \n",
       "\n",
       "       estimated_first_year_energy_bill_savings  baseline_electric  \\\n",
       "count                               3652.000000        3652.000000   \n",
       "mean                                 657.592823        6282.483634   \n",
       "min                                    1.190000           0.000000   \n",
       "25%                                  261.725000           0.000000   \n",
       "50%                                  514.390000        5854.620000   \n",
       "75%                                  890.985000        9411.177500   \n",
       "max                                 5919.870000       62852.130000   \n",
       "std                                  584.244384        5799.134851   \n",
       "\n",
       "       baseline_gas  reporting_electric  reporting_gas  \\\n",
       "count   3652.000000         3652.000000    3652.000000   \n",
       "mean      61.417612         6025.027240      53.369770   \n",
       "min        0.000000            0.000000       0.000000   \n",
       "25%        0.000000            0.000000       0.000000   \n",
       "50%       65.330000         5646.685000      56.310000   \n",
       "75%      105.637500         9136.332500      90.932500   \n",
       "max     1775.140000        42520.660000    1688.410000   \n",
       "std       68.076213         5384.987399      60.347944   \n",
       "\n",
       "       evaluated_annual_electric_savings  evaluated_annual_gas_savings  \n",
       "count                        3652.000000                   3652.000000  \n",
       "mean                          257.456347                      8.047883  \n",
       "min                        -14674.330000                   -180.170000  \n",
       "25%                          -238.692500                      0.000000  \n",
       "50%                             0.000000                      0.000000  \n",
       "75%                           631.390000                     15.482500  \n",
       "max                         47128.950000                    184.510000  \n",
       "std                          2136.918253                     19.203009  \n",
       "\n",
       "[8 rows x 21 columns]"
      ]
     },
     "execution_count": 614,
     "metadata": {},
     "output_type": "execute_result"
    }
   ],
   "source": [
    "data.describe()"
   ]
  },
  {
   "cell_type": "code",
   "execution_count": 615,
   "id": "111287ee-ac17-4cb8-9bc3-da0cef87403f",
   "metadata": {},
   "outputs": [
    {
     "data": {
      "text/plain": [
       "array([725190, 725180, 725280, 725290, 725150, 725287, 743700, 725235,\n",
       "       726227, 726228, 726223, 725025, 725266, 725075, 725145, 725038,\n",
       "       725036, 725156, 744864, 744860, 725037, 744865, 725030, 725165,\n",
       "       725020])"
      ]
     },
     "execution_count": 615,
     "metadata": {},
     "output_type": "execute_result"
    }
   ],
   "source": [
    "data['weather_station-normalization'].unique() ##Weather Station-Normalization:\tThe method used to normalize the energy usage data."
   ]
  },
  {
   "cell_type": "code",
   "execution_count": 616,
   "id": "13928837-f588-484b-a7c6-8c4b48ab702f",
   "metadata": {},
   "outputs": [
    {
     "data": {
      "text/plain": [
       "array([725190, 725180, 725280, 725146, 725290, 725196, 725287, 744989,\n",
       "       744104, 725235, 726227, 743700, 726228, 726223, 725025, 725157,\n",
       "       725075, 724988, 725266, 726166, 725015, 997991, 998009, 740001,\n",
       "       725038, 725155, 998266, 725194, 998168, 998235, 725036, 725145,\n",
       "       725156, 744864, 725150, 744860, 997280, 725037, 725016, 725030,\n",
       "       725220, 997271, 998435, 725050, 744865, 997743, 725020])"
      ]
     },
     "execution_count": 616,
     "metadata": {},
     "output_type": "execute_result"
    }
   ],
   "source": [
    "data['weather_station'].unique() ##Weather Station: The weather station used to normalize the energy usage data."
   ]
  },
  {
   "cell_type": "code",
   "execution_count": 617,
   "id": "e1f1c6d4-f42e-4187-b19d-28c9646dd98b",
   "metadata": {},
   "outputs": [
    {
     "data": {
      "text/plain": [
       "array(['5|A|Cold', '6|A|Cold', '4|A|Mixed-Humid'], dtype=object)"
      ]
     },
     "execution_count": 617,
     "metadata": {},
     "output_type": "execute_result"
    }
   ],
   "source": [
    "data['climate_zone'].unique() ##I will transform this into a numeric value since it could be important for my models"
   ]
  },
  {
   "cell_type": "code",
   "execution_count": 618,
   "id": "acf1c637-1d55-4944-9c6c-85f3d502fbf7",
   "metadata": {},
   "outputs": [],
   "source": [
    "data['climate_zone'] = data['climate_zone'].apply(lambda x: x.split('|')[-0] if '|' in x else x)"
   ]
  },
  {
   "cell_type": "code",
   "execution_count": 619,
   "id": "b3a0cd36-09ea-43ee-b195-8bb06c821400",
   "metadata": {},
   "outputs": [
    {
     "data": {
      "text/plain": [
       "array(['5', '6', '4'], dtype=object)"
      ]
     },
     "execution_count": 619,
     "metadata": {},
     "output_type": "execute_result"
    }
   ],
   "source": [
    "data['climate_zone'].unique()"
   ]
  },
  {
   "cell_type": "code",
   "execution_count": 620,
   "id": "626d4a64-0a62-4dad-ac6f-c440f873a745",
   "metadata": {},
   "outputs": [],
   "source": [
    "##Climate zone: '5|A|Cold', '6|A|Cold', '4|A|Mixed-Humid'"
   ]
  },
  {
   "cell_type": "code",
   "execution_count": 621,
   "id": "eb1e0625-59b1-4760-8dcf-24d6911a018c",
   "metadata": {},
   "outputs": [],
   "source": [
    "data['climate_zone'] = data['climate_zone'].astype(int)"
   ]
  },
  {
   "cell_type": "code",
   "execution_count": 622,
   "id": "6bd0e2d1-ace8-49df-a1be-1f10e19bc7f3",
   "metadata": {},
   "outputs": [
    {
     "data": {
      "text/plain": [
       "dtype('int64')"
      ]
     },
     "execution_count": 622,
     "metadata": {},
     "output_type": "execute_result"
    }
   ],
   "source": [
    "data['climate_zone'].dtype"
   ]
  },
  {
   "cell_type": "markdown",
   "id": "db492d8f-d38b-4881-b951-b6fa9c6bf3dc",
   "metadata": {},
   "source": [
    "# Dealing with the boolean columns"
   ]
  },
  {
   "cell_type": "code",
   "execution_count": 623,
   "id": "b92f6e3b-a344-4de2-a274-f1aa9ac4abf3",
   "metadata": {},
   "outputs": [],
   "source": [
    "##the boolean columns represent all the gas and electricty companies -> it could be crucial for the energy savings and especially the bill\n",
    "\n",
    "##first checking if there isn't a column with all False"
   ]
  },
  {
   "cell_type": "code",
   "execution_count": 624,
   "id": "2b98a76d-17e8-4955-9d9b-68bedf930bf9",
   "metadata": {},
   "outputs": [
    {
     "data": {
      "text/html": [
       "<div>\n",
       "<style scoped>\n",
       "    .dataframe tbody tr th:only-of-type {\n",
       "        vertical-align: middle;\n",
       "    }\n",
       "\n",
       "    .dataframe tbody tr th {\n",
       "        vertical-align: top;\n",
       "    }\n",
       "\n",
       "    .dataframe thead th {\n",
       "        text-align: right;\n",
       "    }\n",
       "</style>\n",
       "<table border=\"1\" class=\"dataframe\">\n",
       "  <thead>\n",
       "    <tr style=\"text-align: right;\">\n",
       "      <th></th>\n",
       "      <th>project_id</th>\n",
       "      <th>contractor_id</th>\n",
       "      <th>project_county</th>\n",
       "      <th>project_city</th>\n",
       "      <th>project_zip</th>\n",
       "      <th>climate_zone</th>\n",
       "      <th>weather_station</th>\n",
       "      <th>weather_station-normalization</th>\n",
       "      <th>project_completion_date</th>\n",
       "      <th>customer_type</th>\n",
       "      <th>...</th>\n",
       "      <th>central_hudson</th>\n",
       "      <th>consolidated_edison</th>\n",
       "      <th>lipa</th>\n",
       "      <th>national_grid</th>\n",
       "      <th>national_fuel_gas</th>\n",
       "      <th>nyseg</th>\n",
       "      <th>orange_and_rockland</th>\n",
       "      <th>rochester_gas_and_electric</th>\n",
       "      <th>location_1</th>\n",
       "      <th>all_false</th>\n",
       "    </tr>\n",
       "  </thead>\n",
       "  <tbody>\n",
       "  </tbody>\n",
       "</table>\n",
       "<p>0 rows × 37 columns</p>\n",
       "</div>"
      ],
      "text/plain": [
       "Empty DataFrame\n",
       "Columns: [project_id, contractor_id, project_county, project_city, project_zip, climate_zone, weather_station, weather_station-normalization, project_completion_date, customer_type, size_of_home, volume_of_home, number_of_units, year_home_built, total_project_cost, contractor_incentive, total_incentive, amount_financed_through_program, estimated_annual_electric_savings, estimated_annual_gas_savings, estimated_first_year_energy_bill_savings, baseline_electric, baseline_gas, reporting_electric, reporting_gas, evaluated_annual_electric_savings, evaluated_annual_gas_savings, central_hudson, consolidated_edison, lipa, national_grid, national_fuel_gas, nyseg, orange_and_rockland, rochester_gas_and_electric, location_1, all_false]\n",
       "Index: []\n",
       "\n",
       "[0 rows x 37 columns]"
      ]
     },
     "execution_count": 624,
     "metadata": {},
     "output_type": "execute_result"
    }
   ],
   "source": [
    "boolean_columns = ['central_hudson', 'consolidated_edison', 'lipa', 'national_grid', 'national_fuel_gas', \n",
    "                   'nyseg', 'orange_and_rockland', 'rochester_gas_and_electric']\n",
    "\n",
    "data['all_false'] = ~data[boolean_columns].any(axis=1)\n",
    "\n",
    "rows_with_all_false = data[data['all_false']]\n",
    "\n",
    "rows_with_all_false"
   ]
  },
  {
   "cell_type": "code",
   "execution_count": 625,
   "id": "df5ff2ee-c8f9-4a6f-8fb9-76b684b651c3",
   "metadata": {},
   "outputs": [],
   "source": [
    "##since all rows contain at least one True value I will transform them into integers\n",
    "\n",
    "data[boolean_columns] = data[boolean_columns].astype(bool).astype(int)"
   ]
  },
  {
   "cell_type": "code",
   "execution_count": 626,
   "id": "239eec89-2fb4-4a86-bd26-c7380d330ec9",
   "metadata": {},
   "outputs": [
    {
     "data": {
      "text/html": [
       "<div>\n",
       "<style scoped>\n",
       "    .dataframe tbody tr th:only-of-type {\n",
       "        vertical-align: middle;\n",
       "    }\n",
       "\n",
       "    .dataframe tbody tr th {\n",
       "        vertical-align: top;\n",
       "    }\n",
       "\n",
       "    .dataframe thead th {\n",
       "        text-align: right;\n",
       "    }\n",
       "</style>\n",
       "<table border=\"1\" class=\"dataframe\">\n",
       "  <thead>\n",
       "    <tr style=\"text-align: right;\">\n",
       "      <th></th>\n",
       "      <th>project_id</th>\n",
       "      <th>contractor_id</th>\n",
       "      <th>project_county</th>\n",
       "      <th>project_city</th>\n",
       "      <th>project_zip</th>\n",
       "      <th>climate_zone</th>\n",
       "      <th>weather_station</th>\n",
       "      <th>weather_station-normalization</th>\n",
       "      <th>project_completion_date</th>\n",
       "      <th>customer_type</th>\n",
       "      <th>...</th>\n",
       "      <th>central_hudson</th>\n",
       "      <th>consolidated_edison</th>\n",
       "      <th>lipa</th>\n",
       "      <th>national_grid</th>\n",
       "      <th>national_fuel_gas</th>\n",
       "      <th>nyseg</th>\n",
       "      <th>orange_and_rockland</th>\n",
       "      <th>rochester_gas_and_electric</th>\n",
       "      <th>location_1</th>\n",
       "      <th>all_false</th>\n",
       "    </tr>\n",
       "  </thead>\n",
       "  <tbody>\n",
       "    <tr>\n",
       "      <th>0</th>\n",
       "      <td>P00000034473</td>\n",
       "      <td>CY0000000014</td>\n",
       "      <td>Onondaga</td>\n",
       "      <td>Fabius</td>\n",
       "      <td>13063</td>\n",
       "      <td>5</td>\n",
       "      <td>725190</td>\n",
       "      <td>725190</td>\n",
       "      <td>2007-08-17</td>\n",
       "      <td>Market</td>\n",
       "      <td>...</td>\n",
       "      <td>0</td>\n",
       "      <td>0</td>\n",
       "      <td>0</td>\n",
       "      <td>1</td>\n",
       "      <td>0</td>\n",
       "      <td>0</td>\n",
       "      <td>0</td>\n",
       "      <td>0</td>\n",
       "      <td>Fabius, NY 13063\\n(42.850323, -75.979919)</td>\n",
       "      <td>False</td>\n",
       "    </tr>\n",
       "    <tr>\n",
       "      <th>1</th>\n",
       "      <td>P00000110370</td>\n",
       "      <td>CY0000000014</td>\n",
       "      <td>Onondaga</td>\n",
       "      <td>Nedrow</td>\n",
       "      <td>13120</td>\n",
       "      <td>5</td>\n",
       "      <td>725190</td>\n",
       "      <td>725190</td>\n",
       "      <td>2007-10-04</td>\n",
       "      <td>Assisted</td>\n",
       "      <td>...</td>\n",
       "      <td>0</td>\n",
       "      <td>0</td>\n",
       "      <td>0</td>\n",
       "      <td>1</td>\n",
       "      <td>0</td>\n",
       "      <td>0</td>\n",
       "      <td>0</td>\n",
       "      <td>0</td>\n",
       "      <td>Nedrow, NY 13120\\n(42.950373, -76.163321)</td>\n",
       "      <td>False</td>\n",
       "    </tr>\n",
       "    <tr>\n",
       "      <th>2</th>\n",
       "      <td>P00000182080</td>\n",
       "      <td>CY0000000014</td>\n",
       "      <td>Onondaga</td>\n",
       "      <td>Jamesville</td>\n",
       "      <td>13078</td>\n",
       "      <td>5</td>\n",
       "      <td>725190</td>\n",
       "      <td>725190</td>\n",
       "      <td>2008-02-27</td>\n",
       "      <td>Market</td>\n",
       "      <td>...</td>\n",
       "      <td>0</td>\n",
       "      <td>0</td>\n",
       "      <td>0</td>\n",
       "      <td>1</td>\n",
       "      <td>0</td>\n",
       "      <td>0</td>\n",
       "      <td>0</td>\n",
       "      <td>0</td>\n",
       "      <td>Jamesville, NY 13078\\n(42.976691, -76.069719)</td>\n",
       "      <td>False</td>\n",
       "    </tr>\n",
       "    <tr>\n",
       "      <th>3</th>\n",
       "      <td>P00000196191</td>\n",
       "      <td>CY0000000261</td>\n",
       "      <td>Albany</td>\n",
       "      <td>Albany</td>\n",
       "      <td>12203</td>\n",
       "      <td>5</td>\n",
       "      <td>725180</td>\n",
       "      <td>725180</td>\n",
       "      <td>2008-02-20</td>\n",
       "      <td>Assisted</td>\n",
       "      <td>...</td>\n",
       "      <td>0</td>\n",
       "      <td>0</td>\n",
       "      <td>0</td>\n",
       "      <td>1</td>\n",
       "      <td>0</td>\n",
       "      <td>0</td>\n",
       "      <td>0</td>\n",
       "      <td>0</td>\n",
       "      <td>Albany, NY 12203\\n(42.680815, -73.836193)</td>\n",
       "      <td>False</td>\n",
       "    </tr>\n",
       "    <tr>\n",
       "      <th>4</th>\n",
       "      <td>P00000327900</td>\n",
       "      <td>CY0000000004</td>\n",
       "      <td>Erie</td>\n",
       "      <td>Buffalo</td>\n",
       "      <td>14221</td>\n",
       "      <td>5</td>\n",
       "      <td>725280</td>\n",
       "      <td>725280</td>\n",
       "      <td>2008-06-18</td>\n",
       "      <td>Market</td>\n",
       "      <td>...</td>\n",
       "      <td>0</td>\n",
       "      <td>0</td>\n",
       "      <td>0</td>\n",
       "      <td>1</td>\n",
       "      <td>0</td>\n",
       "      <td>0</td>\n",
       "      <td>0</td>\n",
       "      <td>0</td>\n",
       "      <td>Buffalo, NY 14221\\n(42.980424, -78.728009)</td>\n",
       "      <td>False</td>\n",
       "    </tr>\n",
       "  </tbody>\n",
       "</table>\n",
       "<p>5 rows × 37 columns</p>\n",
       "</div>"
      ],
      "text/plain": [
       "     project_id contractor_id project_county project_city  project_zip  \\\n",
       "0  P00000034473  CY0000000014       Onondaga       Fabius        13063   \n",
       "1  P00000110370  CY0000000014       Onondaga       Nedrow        13120   \n",
       "2  P00000182080  CY0000000014       Onondaga   Jamesville        13078   \n",
       "3  P00000196191  CY0000000261         Albany       Albany        12203   \n",
       "4  P00000327900  CY0000000004           Erie      Buffalo        14221   \n",
       "\n",
       "   climate_zone  weather_station  weather_station-normalization  \\\n",
       "0             5           725190                         725190   \n",
       "1             5           725190                         725190   \n",
       "2             5           725190                         725190   \n",
       "3             5           725180                         725180   \n",
       "4             5           725280                         725280   \n",
       "\n",
       "  project_completion_date customer_type  ...  central_hudson  \\\n",
       "0              2007-08-17        Market  ...               0   \n",
       "1              2007-10-04      Assisted  ...               0   \n",
       "2              2008-02-27        Market  ...               0   \n",
       "3              2008-02-20      Assisted  ...               0   \n",
       "4              2008-06-18        Market  ...               0   \n",
       "\n",
       "   consolidated_edison  lipa  national_grid  national_fuel_gas  nyseg  \\\n",
       "0                    0     0              1                  0      0   \n",
       "1                    0     0              1                  0      0   \n",
       "2                    0     0              1                  0      0   \n",
       "3                    0     0              1                  0      0   \n",
       "4                    0     0              1                  0      0   \n",
       "\n",
       "   orange_and_rockland  rochester_gas_and_electric  \\\n",
       "0                    0                           0   \n",
       "1                    0                           0   \n",
       "2                    0                           0   \n",
       "3                    0                           0   \n",
       "4                    0                           0   \n",
       "\n",
       "                                      location_1  all_false  \n",
       "0      Fabius, NY 13063\\n(42.850323, -75.979919)      False  \n",
       "1      Nedrow, NY 13120\\n(42.950373, -76.163321)      False  \n",
       "2  Jamesville, NY 13078\\n(42.976691, -76.069719)      False  \n",
       "3      Albany, NY 12203\\n(42.680815, -73.836193)      False  \n",
       "4     Buffalo, NY 14221\\n(42.980424, -78.728009)      False  \n",
       "\n",
       "[5 rows x 37 columns]"
      ]
     },
     "execution_count": 626,
     "metadata": {},
     "output_type": "execute_result"
    }
   ],
   "source": [
    "data.head()"
   ]
  },
  {
   "cell_type": "code",
   "execution_count": 666,
   "id": "d59ebc3e-47c0-452d-9d1f-d970ce3dd909",
   "metadata": {},
   "outputs": [],
   "source": [
    "data = data.drop(columns = ['all_false'])"
   ]
  },
  {
   "cell_type": "markdown",
   "id": "e7583423-fc97-48d2-a110-5ff81dc921d1",
   "metadata": {},
   "source": [
    "# Dealing with the location_1 column"
   ]
  },
  {
   "cell_type": "markdown",
   "id": "d26837e6-1624-4c3b-b8ae-eb4d0b9fc2c2",
   "metadata": {},
   "source": [
    "the location_1 column contains the city name and city zip together with some coordinates, since the city and zip data is already contained in different columns I will extract the coordinates for a further possible geographical analysis and drop the location_1 column, later I will exclude the coordinates column so that the models want interpret it as numerical input"
   ]
  },
  {
   "cell_type": "code",
   "execution_count": 627,
   "id": "b4261e2a-44b7-4a5a-8567-ecdc243cedc7",
   "metadata": {},
   "outputs": [],
   "source": [
    "def extract_coordinates(text):\n",
    "    match = re.search(r'\\(([^)]+)', text)\n",
    "    if match:\n",
    "        return match.group(1)\n",
    "    return None\n",
    "\n",
    "# Apply the function to create a new column\n",
    "data['coordinates'] = data['location_1'].apply(extract_coordinates)"
   ]
  },
  {
   "cell_type": "code",
   "execution_count": 628,
   "id": "7bd3d289-caf3-4f02-b07c-4f14b1e23c90",
   "metadata": {},
   "outputs": [
    {
     "data": {
      "text/html": [
       "<div>\n",
       "<style scoped>\n",
       "    .dataframe tbody tr th:only-of-type {\n",
       "        vertical-align: middle;\n",
       "    }\n",
       "\n",
       "    .dataframe tbody tr th {\n",
       "        vertical-align: top;\n",
       "    }\n",
       "\n",
       "    .dataframe thead th {\n",
       "        text-align: right;\n",
       "    }\n",
       "</style>\n",
       "<table border=\"1\" class=\"dataframe\">\n",
       "  <thead>\n",
       "    <tr style=\"text-align: right;\">\n",
       "      <th></th>\n",
       "      <th>project_id</th>\n",
       "      <th>contractor_id</th>\n",
       "      <th>project_county</th>\n",
       "      <th>project_city</th>\n",
       "      <th>project_zip</th>\n",
       "      <th>climate_zone</th>\n",
       "      <th>weather_station</th>\n",
       "      <th>weather_station-normalization</th>\n",
       "      <th>project_completion_date</th>\n",
       "      <th>customer_type</th>\n",
       "      <th>...</th>\n",
       "      <th>consolidated_edison</th>\n",
       "      <th>lipa</th>\n",
       "      <th>national_grid</th>\n",
       "      <th>national_fuel_gas</th>\n",
       "      <th>nyseg</th>\n",
       "      <th>orange_and_rockland</th>\n",
       "      <th>rochester_gas_and_electric</th>\n",
       "      <th>location_1</th>\n",
       "      <th>all_false</th>\n",
       "      <th>coordinates</th>\n",
       "    </tr>\n",
       "  </thead>\n",
       "  <tbody>\n",
       "    <tr>\n",
       "      <th>0</th>\n",
       "      <td>P00000034473</td>\n",
       "      <td>CY0000000014</td>\n",
       "      <td>Onondaga</td>\n",
       "      <td>Fabius</td>\n",
       "      <td>13063</td>\n",
       "      <td>5</td>\n",
       "      <td>725190</td>\n",
       "      <td>725190</td>\n",
       "      <td>2007-08-17</td>\n",
       "      <td>Market</td>\n",
       "      <td>...</td>\n",
       "      <td>0</td>\n",
       "      <td>0</td>\n",
       "      <td>1</td>\n",
       "      <td>0</td>\n",
       "      <td>0</td>\n",
       "      <td>0</td>\n",
       "      <td>0</td>\n",
       "      <td>Fabius, NY 13063\\n(42.850323, -75.979919)</td>\n",
       "      <td>False</td>\n",
       "      <td>42.850323, -75.979919</td>\n",
       "    </tr>\n",
       "    <tr>\n",
       "      <th>1</th>\n",
       "      <td>P00000110370</td>\n",
       "      <td>CY0000000014</td>\n",
       "      <td>Onondaga</td>\n",
       "      <td>Nedrow</td>\n",
       "      <td>13120</td>\n",
       "      <td>5</td>\n",
       "      <td>725190</td>\n",
       "      <td>725190</td>\n",
       "      <td>2007-10-04</td>\n",
       "      <td>Assisted</td>\n",
       "      <td>...</td>\n",
       "      <td>0</td>\n",
       "      <td>0</td>\n",
       "      <td>1</td>\n",
       "      <td>0</td>\n",
       "      <td>0</td>\n",
       "      <td>0</td>\n",
       "      <td>0</td>\n",
       "      <td>Nedrow, NY 13120\\n(42.950373, -76.163321)</td>\n",
       "      <td>False</td>\n",
       "      <td>42.950373, -76.163321</td>\n",
       "    </tr>\n",
       "    <tr>\n",
       "      <th>2</th>\n",
       "      <td>P00000182080</td>\n",
       "      <td>CY0000000014</td>\n",
       "      <td>Onondaga</td>\n",
       "      <td>Jamesville</td>\n",
       "      <td>13078</td>\n",
       "      <td>5</td>\n",
       "      <td>725190</td>\n",
       "      <td>725190</td>\n",
       "      <td>2008-02-27</td>\n",
       "      <td>Market</td>\n",
       "      <td>...</td>\n",
       "      <td>0</td>\n",
       "      <td>0</td>\n",
       "      <td>1</td>\n",
       "      <td>0</td>\n",
       "      <td>0</td>\n",
       "      <td>0</td>\n",
       "      <td>0</td>\n",
       "      <td>Jamesville, NY 13078\\n(42.976691, -76.069719)</td>\n",
       "      <td>False</td>\n",
       "      <td>42.976691, -76.069719</td>\n",
       "    </tr>\n",
       "    <tr>\n",
       "      <th>3</th>\n",
       "      <td>P00000196191</td>\n",
       "      <td>CY0000000261</td>\n",
       "      <td>Albany</td>\n",
       "      <td>Albany</td>\n",
       "      <td>12203</td>\n",
       "      <td>5</td>\n",
       "      <td>725180</td>\n",
       "      <td>725180</td>\n",
       "      <td>2008-02-20</td>\n",
       "      <td>Assisted</td>\n",
       "      <td>...</td>\n",
       "      <td>0</td>\n",
       "      <td>0</td>\n",
       "      <td>1</td>\n",
       "      <td>0</td>\n",
       "      <td>0</td>\n",
       "      <td>0</td>\n",
       "      <td>0</td>\n",
       "      <td>Albany, NY 12203\\n(42.680815, -73.836193)</td>\n",
       "      <td>False</td>\n",
       "      <td>42.680815, -73.836193</td>\n",
       "    </tr>\n",
       "    <tr>\n",
       "      <th>4</th>\n",
       "      <td>P00000327900</td>\n",
       "      <td>CY0000000004</td>\n",
       "      <td>Erie</td>\n",
       "      <td>Buffalo</td>\n",
       "      <td>14221</td>\n",
       "      <td>5</td>\n",
       "      <td>725280</td>\n",
       "      <td>725280</td>\n",
       "      <td>2008-06-18</td>\n",
       "      <td>Market</td>\n",
       "      <td>...</td>\n",
       "      <td>0</td>\n",
       "      <td>0</td>\n",
       "      <td>1</td>\n",
       "      <td>0</td>\n",
       "      <td>0</td>\n",
       "      <td>0</td>\n",
       "      <td>0</td>\n",
       "      <td>Buffalo, NY 14221\\n(42.980424, -78.728009)</td>\n",
       "      <td>False</td>\n",
       "      <td>42.980424, -78.728009</td>\n",
       "    </tr>\n",
       "  </tbody>\n",
       "</table>\n",
       "<p>5 rows × 38 columns</p>\n",
       "</div>"
      ],
      "text/plain": [
       "     project_id contractor_id project_county project_city  project_zip  \\\n",
       "0  P00000034473  CY0000000014       Onondaga       Fabius        13063   \n",
       "1  P00000110370  CY0000000014       Onondaga       Nedrow        13120   \n",
       "2  P00000182080  CY0000000014       Onondaga   Jamesville        13078   \n",
       "3  P00000196191  CY0000000261         Albany       Albany        12203   \n",
       "4  P00000327900  CY0000000004           Erie      Buffalo        14221   \n",
       "\n",
       "   climate_zone  weather_station  weather_station-normalization  \\\n",
       "0             5           725190                         725190   \n",
       "1             5           725190                         725190   \n",
       "2             5           725190                         725190   \n",
       "3             5           725180                         725180   \n",
       "4             5           725280                         725280   \n",
       "\n",
       "  project_completion_date customer_type  ...  consolidated_edison  lipa  \\\n",
       "0              2007-08-17        Market  ...                    0     0   \n",
       "1              2007-10-04      Assisted  ...                    0     0   \n",
       "2              2008-02-27        Market  ...                    0     0   \n",
       "3              2008-02-20      Assisted  ...                    0     0   \n",
       "4              2008-06-18        Market  ...                    0     0   \n",
       "\n",
       "   national_grid  national_fuel_gas  nyseg  orange_and_rockland  \\\n",
       "0              1                  0      0                    0   \n",
       "1              1                  0      0                    0   \n",
       "2              1                  0      0                    0   \n",
       "3              1                  0      0                    0   \n",
       "4              1                  0      0                    0   \n",
       "\n",
       "   rochester_gas_and_electric                                     location_1  \\\n",
       "0                           0      Fabius, NY 13063\\n(42.850323, -75.979919)   \n",
       "1                           0      Nedrow, NY 13120\\n(42.950373, -76.163321)   \n",
       "2                           0  Jamesville, NY 13078\\n(42.976691, -76.069719)   \n",
       "3                           0      Albany, NY 12203\\n(42.680815, -73.836193)   \n",
       "4                           0     Buffalo, NY 14221\\n(42.980424, -78.728009)   \n",
       "\n",
       "   all_false            coordinates  \n",
       "0      False  42.850323, -75.979919  \n",
       "1      False  42.950373, -76.163321  \n",
       "2      False  42.976691, -76.069719  \n",
       "3      False  42.680815, -73.836193  \n",
       "4      False  42.980424, -78.728009  \n",
       "\n",
       "[5 rows x 38 columns]"
      ]
     },
     "execution_count": 628,
     "metadata": {},
     "output_type": "execute_result"
    }
   ],
   "source": [
    "data.head()"
   ]
  },
  {
   "cell_type": "code",
   "execution_count": 629,
   "id": "ccafd0cb-dabd-4ae5-9b79-544e72471026",
   "metadata": {},
   "outputs": [],
   "source": [
    "data = data.drop(columns=['location_1'])"
   ]
  },
  {
   "cell_type": "code",
   "execution_count": 630,
   "id": "16d75ea5-63f0-4822-aaed-fae81d110920",
   "metadata": {},
   "outputs": [
    {
     "data": {
      "text/html": [
       "<div>\n",
       "<style scoped>\n",
       "    .dataframe tbody tr th:only-of-type {\n",
       "        vertical-align: middle;\n",
       "    }\n",
       "\n",
       "    .dataframe tbody tr th {\n",
       "        vertical-align: top;\n",
       "    }\n",
       "\n",
       "    .dataframe thead th {\n",
       "        text-align: right;\n",
       "    }\n",
       "</style>\n",
       "<table border=\"1\" class=\"dataframe\">\n",
       "  <thead>\n",
       "    <tr style=\"text-align: right;\">\n",
       "      <th></th>\n",
       "      <th>project_id</th>\n",
       "      <th>contractor_id</th>\n",
       "      <th>project_county</th>\n",
       "      <th>project_city</th>\n",
       "      <th>project_zip</th>\n",
       "      <th>climate_zone</th>\n",
       "      <th>weather_station</th>\n",
       "      <th>weather_station-normalization</th>\n",
       "      <th>project_completion_date</th>\n",
       "      <th>customer_type</th>\n",
       "      <th>...</th>\n",
       "      <th>central_hudson</th>\n",
       "      <th>consolidated_edison</th>\n",
       "      <th>lipa</th>\n",
       "      <th>national_grid</th>\n",
       "      <th>national_fuel_gas</th>\n",
       "      <th>nyseg</th>\n",
       "      <th>orange_and_rockland</th>\n",
       "      <th>rochester_gas_and_electric</th>\n",
       "      <th>all_false</th>\n",
       "      <th>coordinates</th>\n",
       "    </tr>\n",
       "  </thead>\n",
       "  <tbody>\n",
       "    <tr>\n",
       "      <th>0</th>\n",
       "      <td>P00000034473</td>\n",
       "      <td>CY0000000014</td>\n",
       "      <td>Onondaga</td>\n",
       "      <td>Fabius</td>\n",
       "      <td>13063</td>\n",
       "      <td>5</td>\n",
       "      <td>725190</td>\n",
       "      <td>725190</td>\n",
       "      <td>2007-08-17</td>\n",
       "      <td>Market</td>\n",
       "      <td>...</td>\n",
       "      <td>0</td>\n",
       "      <td>0</td>\n",
       "      <td>0</td>\n",
       "      <td>1</td>\n",
       "      <td>0</td>\n",
       "      <td>0</td>\n",
       "      <td>0</td>\n",
       "      <td>0</td>\n",
       "      <td>False</td>\n",
       "      <td>42.850323, -75.979919</td>\n",
       "    </tr>\n",
       "    <tr>\n",
       "      <th>1</th>\n",
       "      <td>P00000110370</td>\n",
       "      <td>CY0000000014</td>\n",
       "      <td>Onondaga</td>\n",
       "      <td>Nedrow</td>\n",
       "      <td>13120</td>\n",
       "      <td>5</td>\n",
       "      <td>725190</td>\n",
       "      <td>725190</td>\n",
       "      <td>2007-10-04</td>\n",
       "      <td>Assisted</td>\n",
       "      <td>...</td>\n",
       "      <td>0</td>\n",
       "      <td>0</td>\n",
       "      <td>0</td>\n",
       "      <td>1</td>\n",
       "      <td>0</td>\n",
       "      <td>0</td>\n",
       "      <td>0</td>\n",
       "      <td>0</td>\n",
       "      <td>False</td>\n",
       "      <td>42.950373, -76.163321</td>\n",
       "    </tr>\n",
       "    <tr>\n",
       "      <th>2</th>\n",
       "      <td>P00000182080</td>\n",
       "      <td>CY0000000014</td>\n",
       "      <td>Onondaga</td>\n",
       "      <td>Jamesville</td>\n",
       "      <td>13078</td>\n",
       "      <td>5</td>\n",
       "      <td>725190</td>\n",
       "      <td>725190</td>\n",
       "      <td>2008-02-27</td>\n",
       "      <td>Market</td>\n",
       "      <td>...</td>\n",
       "      <td>0</td>\n",
       "      <td>0</td>\n",
       "      <td>0</td>\n",
       "      <td>1</td>\n",
       "      <td>0</td>\n",
       "      <td>0</td>\n",
       "      <td>0</td>\n",
       "      <td>0</td>\n",
       "      <td>False</td>\n",
       "      <td>42.976691, -76.069719</td>\n",
       "    </tr>\n",
       "    <tr>\n",
       "      <th>3</th>\n",
       "      <td>P00000196191</td>\n",
       "      <td>CY0000000261</td>\n",
       "      <td>Albany</td>\n",
       "      <td>Albany</td>\n",
       "      <td>12203</td>\n",
       "      <td>5</td>\n",
       "      <td>725180</td>\n",
       "      <td>725180</td>\n",
       "      <td>2008-02-20</td>\n",
       "      <td>Assisted</td>\n",
       "      <td>...</td>\n",
       "      <td>0</td>\n",
       "      <td>0</td>\n",
       "      <td>0</td>\n",
       "      <td>1</td>\n",
       "      <td>0</td>\n",
       "      <td>0</td>\n",
       "      <td>0</td>\n",
       "      <td>0</td>\n",
       "      <td>False</td>\n",
       "      <td>42.680815, -73.836193</td>\n",
       "    </tr>\n",
       "    <tr>\n",
       "      <th>4</th>\n",
       "      <td>P00000327900</td>\n",
       "      <td>CY0000000004</td>\n",
       "      <td>Erie</td>\n",
       "      <td>Buffalo</td>\n",
       "      <td>14221</td>\n",
       "      <td>5</td>\n",
       "      <td>725280</td>\n",
       "      <td>725280</td>\n",
       "      <td>2008-06-18</td>\n",
       "      <td>Market</td>\n",
       "      <td>...</td>\n",
       "      <td>0</td>\n",
       "      <td>0</td>\n",
       "      <td>0</td>\n",
       "      <td>1</td>\n",
       "      <td>0</td>\n",
       "      <td>0</td>\n",
       "      <td>0</td>\n",
       "      <td>0</td>\n",
       "      <td>False</td>\n",
       "      <td>42.980424, -78.728009</td>\n",
       "    </tr>\n",
       "  </tbody>\n",
       "</table>\n",
       "<p>5 rows × 37 columns</p>\n",
       "</div>"
      ],
      "text/plain": [
       "     project_id contractor_id project_county project_city  project_zip  \\\n",
       "0  P00000034473  CY0000000014       Onondaga       Fabius        13063   \n",
       "1  P00000110370  CY0000000014       Onondaga       Nedrow        13120   \n",
       "2  P00000182080  CY0000000014       Onondaga   Jamesville        13078   \n",
       "3  P00000196191  CY0000000261         Albany       Albany        12203   \n",
       "4  P00000327900  CY0000000004           Erie      Buffalo        14221   \n",
       "\n",
       "   climate_zone  weather_station  weather_station-normalization  \\\n",
       "0             5           725190                         725190   \n",
       "1             5           725190                         725190   \n",
       "2             5           725190                         725190   \n",
       "3             5           725180                         725180   \n",
       "4             5           725280                         725280   \n",
       "\n",
       "  project_completion_date customer_type  ...  central_hudson  \\\n",
       "0              2007-08-17        Market  ...               0   \n",
       "1              2007-10-04      Assisted  ...               0   \n",
       "2              2008-02-27        Market  ...               0   \n",
       "3              2008-02-20      Assisted  ...               0   \n",
       "4              2008-06-18        Market  ...               0   \n",
       "\n",
       "   consolidated_edison  lipa  national_grid  national_fuel_gas  nyseg  \\\n",
       "0                    0     0              1                  0      0   \n",
       "1                    0     0              1                  0      0   \n",
       "2                    0     0              1                  0      0   \n",
       "3                    0     0              1                  0      0   \n",
       "4                    0     0              1                  0      0   \n",
       "\n",
       "   orange_and_rockland  rochester_gas_and_electric  all_false  \\\n",
       "0                    0                           0      False   \n",
       "1                    0                           0      False   \n",
       "2                    0                           0      False   \n",
       "3                    0                           0      False   \n",
       "4                    0                           0      False   \n",
       "\n",
       "             coordinates  \n",
       "0  42.850323, -75.979919  \n",
       "1  42.950373, -76.163321  \n",
       "2  42.976691, -76.069719  \n",
       "3  42.680815, -73.836193  \n",
       "4  42.980424, -78.728009  \n",
       "\n",
       "[5 rows x 37 columns]"
      ]
     },
     "execution_count": 630,
     "metadata": {},
     "output_type": "execute_result"
    }
   ],
   "source": [
    "data.head()"
   ]
  },
  {
   "cell_type": "markdown",
   "id": "4412cf19-c5ba-4833-8741-83d82a4955fc",
   "metadata": {},
   "source": [
    "# Dealing with missing data"
   ]
  },
  {
   "cell_type": "markdown",
   "id": "f3a63902-a756-4fcb-9cc7-ce125ab5be37",
   "metadata": {},
   "source": [
    "# 1. Number of units"
   ]
  },
  {
   "cell_type": "code",
   "execution_count": 631,
   "id": "e2a62900-b568-46f1-a7e0-be740137ae3d",
   "metadata": {},
   "outputs": [
    {
     "data": {
      "text/plain": [
       "array([nan,  1.,  2.,  3.,  4.])"
      ]
     },
     "execution_count": 631,
     "metadata": {},
     "output_type": "execute_result"
    }
   ],
   "source": [
    "data[\"number_of_units\"].unique()"
   ]
  },
  {
   "cell_type": "code",
   "execution_count": 632,
   "id": "1e09aaf0-c450-4d6c-bb9c-374714f2867d",
   "metadata": {},
   "outputs": [
    {
     "data": {
      "text/plain": [
       "1.0334776334776334"
      ]
     },
     "execution_count": 632,
     "metadata": {},
     "output_type": "execute_result"
    }
   ],
   "source": [
    "data[\"number_of_units\"].mean()"
   ]
  },
  {
   "cell_type": "code",
   "execution_count": 633,
   "id": "7e0f0a3b-a4c0-4307-9bfc-08c1710a80dd",
   "metadata": {},
   "outputs": [
    {
     "data": {
      "text/plain": [
       "1.0"
      ]
     },
     "execution_count": 633,
     "metadata": {},
     "output_type": "execute_result"
    }
   ],
   "source": [
    "data[\"number_of_units\"].median()"
   ]
  },
  {
   "cell_type": "code",
   "execution_count": 634,
   "id": "4328eca2-843b-4409-b0f2-388ee5a9c782",
   "metadata": {},
   "outputs": [],
   "source": [
    "data[\"number_of_units\"] = data[\"number_of_units\"].fillna(data[\"number_of_units\"].median())\n",
    "\n",
    "##I'm replacing with the median since the data does not contain floats but only integers"
   ]
  },
  {
   "cell_type": "code",
   "execution_count": 635,
   "id": "e807a564-31d8-44e6-af7b-42a330578d3f",
   "metadata": {},
   "outputs": [
    {
     "data": {
      "text/plain": [
       "0"
      ]
     },
     "execution_count": 635,
     "metadata": {},
     "output_type": "execute_result"
    }
   ],
   "source": [
    "data[\"number_of_units\"].isna().sum()"
   ]
  },
  {
   "cell_type": "code",
   "execution_count": 636,
   "id": "3e877aee-e376-4b7d-b8c5-c3df0dfbe1dd",
   "metadata": {},
   "outputs": [],
   "source": [
    "data['number_of_units'] = data['number_of_units'].astype(int)"
   ]
  },
  {
   "cell_type": "code",
   "execution_count": 637,
   "id": "6c740006-95f2-449e-98fd-90a72141187c",
   "metadata": {},
   "outputs": [
    {
     "data": {
      "text/plain": [
       "array([1, 2, 3, 4])"
      ]
     },
     "execution_count": 637,
     "metadata": {},
     "output_type": "execute_result"
    }
   ],
   "source": [
    "data[\"number_of_units\"].unique()"
   ]
  },
  {
   "cell_type": "markdown",
   "id": "48503a17-e22f-446f-8b03-b486570428a2",
   "metadata": {},
   "source": [
    "# 2. Year home built"
   ]
  },
  {
   "cell_type": "code",
   "execution_count": 638,
   "id": "02b7cf93-4cbd-4554-92a4-2cf5a9955483",
   "metadata": {},
   "outputs": [
    {
     "data": {
      "text/plain": [
       "year_home_built\n",
       "1950.0    274\n",
       "1960.0    158\n",
       "1955.0    147\n",
       "1920.0    126\n",
       "1940.0    114\n",
       "         ... \n",
       "1825.0      1\n",
       "1793.0      1\n",
       "1844.0      1\n",
       "1815.0      1\n",
       "2010.0      1\n",
       "Name: count, Length: 169, dtype: int64"
      ]
     },
     "execution_count": 638,
     "metadata": {},
     "output_type": "execute_result"
    }
   ],
   "source": [
    "data[\"year_home_built\"].value_counts(dropna = False)"
   ]
  },
  {
   "cell_type": "code",
   "execution_count": 639,
   "id": "4d81c743-3b6a-4027-9a39-575e4335d7cc",
   "metadata": {},
   "outputs": [
    {
     "name": "stderr",
     "output_type": "stream",
     "text": [
      "/var/folders/yk/s4qyg63s1hq80x6c4rqfc6100000gn/T/ipykernel_97193/4217508949.py:1: FutureWarning: A value is trying to be set on a copy of a DataFrame or Series through chained assignment using an inplace method.\n",
      "The behavior will change in pandas 3.0. This inplace method will never work because the intermediate object on which we are setting values always behaves as a copy.\n",
      "\n",
      "For example, when doing 'df[col].method(value, inplace=True)', try using 'df.method({col: value}, inplace=True)' or df[col] = df[col].method(value) instead, to perform the operation inplace on the original object.\n",
      "\n",
      "\n",
      "  data[\"year_home_built\"].fillna(data[\"year_home_built\"].median(), inplace=True)\n"
     ]
    }
   ],
   "source": [
    "data[\"year_home_built\"].fillna(data[\"year_home_built\"].median(), inplace=True)"
   ]
  },
  {
   "cell_type": "code",
   "execution_count": 640,
   "id": "e6e50624-1299-46a3-9f64-ebc6621f01c0",
   "metadata": {},
   "outputs": [],
   "source": [
    "data['year_home_built'] = data['year_home_built'].astype(int)"
   ]
  },
  {
   "cell_type": "code",
   "execution_count": 641,
   "id": "db4767cc-7b68-417d-beb5-a4330e82be81",
   "metadata": {},
   "outputs": [
    {
     "data": {
      "image/png": "[encoded data removed]",
      "text/plain": [
       "<Figure size 1200x600 with 1 Axes>"
      ]
     },
     "metadata": {},
     "output_type": "display_data"
    }
   ],
   "source": [
    "plt.figure(figsize=(12, 6))\n",
    "sns.histplot(data[\"year_home_built\"], color='blue')\n",
    "plt.title('Distribution of Year Home Built')\n",
    "plt.xlabel('Year Built')\n",
    "plt.ylabel('Frequency')\n",
    "plt.show()"
   ]
  },
  {
   "cell_type": "code",
   "execution_count": 642,
   "id": "6ffe8939-b4d1-4d18-ab1e-75a2524c7400",
   "metadata": {},
   "outputs": [
    {
     "name": "stderr",
     "output_type": "stream",
     "text": [
      "/Users/simonefischer/Ironhack/Week_9/Final_Project/finalv/lib/python3.11/site-packages/seaborn/categorical.py:640: FutureWarning: SeriesGroupBy.grouper is deprecated and will be removed in a future version of pandas.\n",
      "  positions = grouped.grouper.result_index.to_numpy(dtype=float)\n"
     ]
    },
    {
     "data": {
      "image/png": "[encoded data removed]",
      "text/plain": [
       "<Figure size 640x480 with 1 Axes>"
      ]
     },
     "metadata": {},
     "output_type": "display_data"
    }
   ],
   "source": [
    "sns.boxplot(x=data[\"year_home_built\"])\n",
    "plt.show()"
   ]
  },
  {
   "cell_type": "code",
   "execution_count": 643,
   "id": "9a7eb4a3-5c33-4684-90ba-473ffdc3f2da",
   "metadata": {},
   "outputs": [
    {
     "data": {
      "text/plain": [
       "1756"
      ]
     },
     "execution_count": 643,
     "metadata": {},
     "output_type": "execute_result"
    }
   ],
   "source": [
    "data[\"year_home_built\"].min()"
   ]
  },
  {
   "cell_type": "code",
   "execution_count": 644,
   "id": "2f1976ee-dda6-497b-b9ce-c12b41563287",
   "metadata": {},
   "outputs": [
    {
     "data": {
      "text/plain": [
       "2010"
      ]
     },
     "execution_count": 644,
     "metadata": {},
     "output_type": "execute_result"
    }
   ],
   "source": [
    "data[\"year_home_built\"].max()"
   ]
  },
  {
   "cell_type": "code",
   "execution_count": 645,
   "id": "027d87c1-851b-40b2-b191-a621434ad2ed",
   "metadata": {},
   "outputs": [],
   "source": [
    "##binning the years\n",
    "bins = [1800, 1900, 1950, 2000, 2010]\n",
    "labels = ['Very Old', 'Old', 'Moderate', 'New']\n",
    "data['age_category'] = pd.cut(data['year_home_built'], bins=bins, labels=labels, right=False)\n",
    "\n"
   ]
  },
  {
   "cell_type": "code",
   "execution_count": 646,
   "id": "8aedb166-284c-49fb-8626-69079a489494",
   "metadata": {},
   "outputs": [
    {
     "data": {
      "text/plain": [
       "0       Moderate\n",
       "1       Very Old\n",
       "2       Moderate\n",
       "3            Old\n",
       "4       Moderate\n",
       "          ...   \n",
       "3647         Old\n",
       "3648         Old\n",
       "3649         Old\n",
       "3650    Moderate\n",
       "3651         Old\n",
       "Name: age_category, Length: 3652, dtype: category\n",
       "Categories (4, object): ['Very Old' < 'Old' < 'Moderate' < 'New']"
      ]
     },
     "execution_count": 646,
     "metadata": {},
     "output_type": "execute_result"
    }
   ],
   "source": [
    "data['age_category']"
   ]
  },
  {
   "cell_type": "code",
   "execution_count": 647,
   "id": "7cfdb5b3-937f-4e58-87a3-7d713defea96",
   "metadata": {},
   "outputs": [],
   "source": [
    "data[\"age_category\"].fillna(data[\"age_category\"].mode()[0], inplace=True)"
   ]
  },
  {
   "cell_type": "code",
   "execution_count": 648,
   "id": "613521e0-cf65-4704-b454-4df733355048",
   "metadata": {},
   "outputs": [
    {
     "data": {
      "image/png": "[encoded data removed]",
      "text/plain": [
       "<Figure size 1200x600 with 1 Axes>"
      ]
     },
     "metadata": {},
     "output_type": "display_data"
    }
   ],
   "source": [
    "plt.figure(figsize=(12, 6))\n",
    "sns.histplot(data['age_category'], color='blue')\n",
    "plt.title('Distribution of Year Home Built')\n",
    "plt.xlabel('Year Built')\n",
    "plt.ylabel('Frequency')\n",
    "plt.show()"
   ]
  },
  {
   "cell_type": "markdown",
   "id": "008981f6-cfdf-43fa-bb26-a2ac83f957e3",
   "metadata": {},
   "source": [
    "# 3. size_of_home & volume_of_home                                     "
   ]
  },
  {
   "cell_type": "code",
   "execution_count": 649,
   "id": "833c9601-5199-4b73-ad02-829517e25079",
   "metadata": {},
   "outputs": [
    {
     "data": {
      "text/plain": [
       "count     3651.000000\n",
       "mean      1952.940838\n",
       "std        859.198027\n",
       "min        520.000000\n",
       "25%       1365.500000\n",
       "50%       1792.000000\n",
       "75%       2320.000000\n",
       "max      10260.000000\n",
       "Name: size_of_home, dtype: float64"
      ]
     },
     "execution_count": 649,
     "metadata": {},
     "output_type": "execute_result"
    }
   ],
   "source": [
    "data['size_of_home'].describe()"
   ]
  },
  {
   "cell_type": "code",
   "execution_count": 650,
   "id": "f50bcee7-dbf9-4c7c-a978-fa8b59e388b3",
   "metadata": {},
   "outputs": [
    {
     "data": {
      "text/plain": [
       "1792.0"
      ]
     },
     "execution_count": 650,
     "metadata": {},
     "output_type": "execute_result"
    }
   ],
   "source": [
    "data['size_of_home'].median()"
   ]
  },
  {
   "cell_type": "code",
   "execution_count": 651,
   "id": "8746dde3-185b-41a1-b0c1-7481c0d6050f",
   "metadata": {},
   "outputs": [
    {
     "name": "stderr",
     "output_type": "stream",
     "text": [
      "/var/folders/yk/s4qyg63s1hq80x6c4rqfc6100000gn/T/ipykernel_97193/3641859587.py:1: FutureWarning: A value is trying to be set on a copy of a DataFrame or Series through chained assignment using an inplace method.\n",
      "The behavior will change in pandas 3.0. This inplace method will never work because the intermediate object on which we are setting values always behaves as a copy.\n",
      "\n",
      "For example, when doing 'df[col].method(value, inplace=True)', try using 'df.method({col: value}, inplace=True)' or df[col] = df[col].method(value) instead, to perform the operation inplace on the original object.\n",
      "\n",
      "\n",
      "  data['size_of_home'].fillna(data['size_of_home'].median(), inplace=True)\n"
     ]
    }
   ],
   "source": [
    "data['size_of_home'].fillna(data['size_of_home'].median(), inplace=True)"
   ]
  },
  {
   "cell_type": "code",
   "execution_count": 652,
   "id": "8f9c5a39-fcdc-4705-9e7d-9305f3c538f5",
   "metadata": {},
   "outputs": [
    {
     "data": {
      "text/plain": [
       "count     3651.000000\n",
       "mean     15637.539578\n",
       "std       7055.811599\n",
       "min       4160.000000\n",
       "25%      10816.000000\n",
       "50%      14208.000000\n",
       "75%      18432.000000\n",
       "max      82080.000000\n",
       "Name: volume_of_home, dtype: float64"
      ]
     },
     "execution_count": 652,
     "metadata": {},
     "output_type": "execute_result"
    }
   ],
   "source": [
    "data['volume_of_home'].describe()"
   ]
  },
  {
   "cell_type": "code",
   "execution_count": 653,
   "id": "bd258aa8-0642-45d0-b47c-3f873aa85578",
   "metadata": {},
   "outputs": [
    {
     "data": {
      "text/plain": [
       "14208.0"
      ]
     },
     "execution_count": 653,
     "metadata": {},
     "output_type": "execute_result"
    }
   ],
   "source": [
    "data['volume_of_home'].median()"
   ]
  },
  {
   "cell_type": "code",
   "execution_count": 654,
   "id": "c97e75c9-14f7-4b0b-a8ac-59caea8a2d08",
   "metadata": {},
   "outputs": [
    {
     "name": "stderr",
     "output_type": "stream",
     "text": [
      "/var/folders/yk/s4qyg63s1hq80x6c4rqfc6100000gn/T/ipykernel_97193/2063383040.py:1: FutureWarning: A value is trying to be set on a copy of a DataFrame or Series through chained assignment using an inplace method.\n",
      "The behavior will change in pandas 3.0. This inplace method will never work because the intermediate object on which we are setting values always behaves as a copy.\n",
      "\n",
      "For example, when doing 'df[col].method(value, inplace=True)', try using 'df.method({col: value}, inplace=True)' or df[col] = df[col].method(value) instead, to perform the operation inplace on the original object.\n",
      "\n",
      "\n",
      "  data['volume_of_home'].fillna(data['volume_of_home'].median(), inplace=True)\n"
     ]
    }
   ],
   "source": [
    "data['volume_of_home'].fillna(data['volume_of_home'].median(), inplace=True)"
   ]
  },
  {
   "cell_type": "markdown",
   "id": "fa0f1d22-89f3-4388-a2d8-bd3c73a10e8b",
   "metadata": {},
   "source": [
    "# 4. Estimated Annual Savings"
   ]
  },
  {
   "cell_type": "markdown",
   "id": "1340d515-cbf8-4217-8077-82908feeb88f",
   "metadata": {},
   "source": [
    "About 2/3 of the estimated annual saving data for gas and electricity is missing. I start by checking the distribution of the values. "
   ]
  },
  {
   "cell_type": "markdown",
   "id": "560f7aa6-92d2-4971-9abe-2b1841c22f46",
   "metadata": {},
   "source": [
    "### 4.1 Estimated electric savings"
   ]
  },
  {
   "cell_type": "code",
   "execution_count": 671,
   "id": "913fada3-fdc6-44fd-a057-6a9394f0246f",
   "metadata": {},
   "outputs": [
    {
     "data": {
      "image/png": "[encoded data removed]",
      "text/plain": [
       "<Figure size 1200x600 with 1 Axes>"
      ]
     },
     "metadata": {},
     "output_type": "display_data"
    }
   ],
   "source": [
    "plt.figure(figsize=(12, 6))\n",
    "sns.histplot(data[\"estimated_annual_electric_savings\"], color='blue')\n",
    "plt.title('Distribution of estimated annual electric savings')\n",
    "plt.xlabel('Estimated Annual Electric Savings (kWh)')\n",
    "plt.ylabel('Number of projects')\n",
    "plt.show()"
   ]
  },
  {
   "cell_type": "code",
   "execution_count": 655,
   "id": "dc0c41d8-0af2-4113-b4ae-2c8443bac742",
   "metadata": {},
   "outputs": [
    {
     "data": {
      "text/plain": [
       "count     1086.000000\n",
       "mean       403.046041\n",
       "std        802.562307\n",
       "min     -10624.000000\n",
       "25%          0.000000\n",
       "50%         81.500000\n",
       "75%        654.000000\n",
       "max       7786.000000\n",
       "Name: estimated_annual_electric_savings, dtype: float64"
      ]
     },
     "execution_count": 655,
     "metadata": {},
     "output_type": "execute_result"
    }
   ],
   "source": [
    "data['estimated_annual_electric_savings'].describe()"
   ]
  },
  {
   "cell_type": "code",
   "execution_count": 656,
   "id": "a319ac2a-df57-49ed-aa2f-87b06c8ff0f0",
   "metadata": {},
   "outputs": [
    {
     "data": {
      "text/plain": [
       "81.5"
      ]
     },
     "execution_count": 656,
     "metadata": {},
     "output_type": "execute_result"
    }
   ],
   "source": [
    "data['estimated_annual_electric_savings'].median()"
   ]
  },
  {
   "cell_type": "markdown",
   "id": "9d4d31d9-efa8-42ca-af61-dd15e06d24de",
   "metadata": {},
   "source": [
    "Due to high amount of missing values, skewness, and redundancy with other columns (baseline_electric and reporting_electric leading into evaluated_annual_electric_savings), estimated_annual_electric_savings will be dropped from the dataset for analysis."
   ]
  },
  {
   "cell_type": "markdown",
   "id": "1fbcb1eb-db45-4e1a-a7c1-fb851102d501",
   "metadata": {},
   "source": [
    "### 4.2 Estimated gas savings"
   ]
  },
  {
   "cell_type": "code",
   "execution_count": 672,
   "id": "5969bbaf-d8ab-430f-a22f-62ffda2c2b8c",
   "metadata": {},
   "outputs": [
    {
     "data": {
      "image/png": "[encoded data removed]",
      "text/plain": [
       "<Figure size 1200x600 with 1 Axes>"
      ]
     },
     "metadata": {},
     "output_type": "display_data"
    }
   ],
   "source": [
    "plt.figure(figsize=(12, 6))\n",
    "sns.histplot(data[\"estimated_annual_gas_savings\"], color='blue')\n",
    "plt.title('Distribution of estimated annual electric savings')\n",
    "plt.xlabel('Estimated Annual Gas Savings (MMBtu)')\n",
    "plt.ylabel('Number of projects')\n",
    "plt.show()"
   ]
  },
  {
   "cell_type": "code",
   "execution_count": 657,
   "id": "4d7acd71-b1f1-43b5-b516-ebb4ef04c551",
   "metadata": {},
   "outputs": [
    {
     "data": {
      "text/plain": [
       "count    1086.000000\n",
       "mean       34.400783\n",
       "std        25.055760\n",
       "min       -25.840000\n",
       "25%        17.765000\n",
       "50%        28.335000\n",
       "75%        46.090000\n",
       "max       193.210000\n",
       "Name: estimated_annual_gas_savings, dtype: float64"
      ]
     },
     "execution_count": 657,
     "metadata": {},
     "output_type": "execute_result"
    }
   ],
   "source": [
    "data['estimated_annual_gas_savings'].describe()"
   ]
  },
  {
   "cell_type": "code",
   "execution_count": 658,
   "id": "18792d5b-334a-4dea-9e6d-fdc7c1f2002d",
   "metadata": {},
   "outputs": [
    {
     "data": {
      "text/plain": [
       "count    1086.000000\n",
       "mean       34.400783\n",
       "std        25.055760\n",
       "min       -25.840000\n",
       "25%        17.765000\n",
       "50%        28.335000\n",
       "75%        46.090000\n",
       "max       193.210000\n",
       "Name: estimated_annual_gas_savings, dtype: float64"
      ]
     },
     "execution_count": 658,
     "metadata": {},
     "output_type": "execute_result"
    }
   ],
   "source": [
    "data['estimated_annual_gas_savings'].describe()"
   ]
  },
  {
   "cell_type": "markdown",
   "id": "398eb102-6deb-43df-bab2-b6fa09cbbec6",
   "metadata": {},
   "source": [
    "Despite improved distribution, due to high missing values and redundancy with other columns (baseline_gas and reporting_gas leading into evaluated_annual_gas_savings), estimated_annual_gas_savings is removed from the dataset for analysis."
   ]
  },
  {
   "cell_type": "code",
   "execution_count": 659,
   "id": "4e20d65b-85c3-46bb-8330-98f55173952f",
   "metadata": {},
   "outputs": [],
   "source": [
    "cleaned_data = data.drop(columns=['estimated_annual_gas_savings', 'estimated_annual_electric_savings'])"
   ]
  },
  {
   "cell_type": "code",
   "execution_count": 660,
   "id": "5d03f891-de77-402a-81d9-5be3ac8a0e30",
   "metadata": {},
   "outputs": [
    {
     "data": {
      "text/plain": [
       "project_id                                  0\n",
       "contractor_id                               0\n",
       "project_county                              0\n",
       "project_city                                0\n",
       "project_zip                                 0\n",
       "climate_zone                                0\n",
       "weather_station                             0\n",
       "weather_station-normalization               0\n",
       "project_completion_date                     0\n",
       "customer_type                               0\n",
       "size_of_home                                0\n",
       "volume_of_home                              0\n",
       "number_of_units                             0\n",
       "year_home_built                             0\n",
       "total_project_cost                          0\n",
       "contractor_incentive                        0\n",
       "total_incentive                             0\n",
       "amount_financed_through_program             0\n",
       "estimated_first_year_energy_bill_savings    0\n",
       "baseline_electric                           0\n",
       "baseline_gas                                0\n",
       "reporting_electric                          0\n",
       "reporting_gas                               0\n",
       "evaluated_annual_electric_savings           0\n",
       "evaluated_annual_gas_savings                0\n",
       "central_hudson                              0\n",
       "consolidated_edison                         0\n",
       "lipa                                        0\n",
       "national_grid                               0\n",
       "national_fuel_gas                           0\n",
       "nyseg                                       0\n",
       "orange_and_rockland                         0\n",
       "rochester_gas_and_electric                  0\n",
       "all_false                                   0\n",
       "coordinates                                 0\n",
       "age_category                                0\n",
       "dtype: int64"
      ]
     },
     "execution_count": 660,
     "metadata": {},
     "output_type": "execute_result"
    }
   ],
   "source": [
    "cleaned_data.isna().sum()"
   ]
  },
  {
   "cell_type": "code",
   "execution_count": 664,
   "id": "59a9c372-4555-47d0-b8c5-ea8dbcd034a4",
   "metadata": {},
   "outputs": [
    {
     "data": {
      "text/plain": [
       "array([False])"
      ]
     },
     "execution_count": 664,
     "metadata": {},
     "output_type": "execute_result"
    }
   ],
   "source": [
    "cleaned_data['all_false'].unique()"
   ]
  },
  {
   "cell_type": "code",
   "execution_count": 668,
   "id": "988b1d27-0898-4883-9c42-fd64f6f768a3",
   "metadata": {},
   "outputs": [],
   "source": [
    "cleaned_data.to_csv('cleaned_data.csv')"
   ]
  }
 ],
 "metadata": {
  "kernelspec": {
   "display_name": "projectv",
   "language": "python",
   "name": "projectv"
  },
  "language_info": {
   "codemirror_mode": {
    "name": "ipython",
    "version": 3
   },
   "file_extension": ".py",
   "mimetype": "text/x-python",
   "name": "python",
   "nbconvert_exporter": "python",
   "pygments_lexer": "ipython3",
   "version": "3.11.5"
  }
 },
 "nbformat": 4,
 "nbformat_minor": 5
}
