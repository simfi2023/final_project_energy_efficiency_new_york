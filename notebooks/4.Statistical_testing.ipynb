{
 "cells": [
  {
   "cell_type": "markdown",
   "id": "3f601b52-30d3-4f4f-93a7-dc86f8e742cb",
   "metadata": {},
   "source": [
    "# Predicting Energy and Gas Savings\n",
    "====================================================\n",
    "\n",
    "# Part 4: Statistical testing\n",
    "\n",
    "Welcome to this Jupyter notebook, where we will embark on a statistical testing journey to assess the impact of energy efficiency projects in residential homes participating in the Home Performance with ENERGY STAR® Program from 2007 to 2012.\n",
    "\n",
    "**Background:**\n",
    "The Home Performance with ENERGY STAR® Program, overseen by the U.S. Environmental Protection Agency (EPA) and U.S. Department of Energy (DOE), focuses on promoting energy efficiency. Our analysis involves comparing estimated savings against normalized values from an open-source energy efficiency meter.\n",
    "\n",
    "**About the Home Performance with ENERGY STAR® Program:**\n",
    "\"Home Performance with ENERGY STAR® is a national collaborative program between the U.S. Department of Energy and the U.S. Environmental Protection Agency. It includes a network of 32 utility and nonprofit sponsors, along with 1,300 home performance contractors. Since 2001, Home Performance with ENERGY STAR has been the trusted source for contractors and energy programs delivering home energy upgrades. These upgrades make American homes safer, healthier, and more energy-efficient. The program offers a comprehensive evaluation, with recommended work performed by trained and qualified contractors. A cornerstone of the program is a set of rigorous quality assurance requirements.\" (source: [Department of Energy](https://www.energy.gov/eere/buildings/home-performance-energy-starr), retrieved 29.01.2024)\n",
    "\n",
    "**Dataset Overview:**\n",
    "This dataset backcasts estimated modeled savings for completed projects in the State of New York (US) from 2007 to 2012. These projects are part of the Home Performance with ENERGY STAR® Program under Residential Existing Homes (One to Four Units) Predicted First Year Savings for Energy Efficiency Measures: 2007 – 2012. The analysis compares the estimated savings against normalized savings calculated by an open-source energy efficiency meter. Our focus in this notebook is on cleaning and preparing this data to develop, train, and fit machine learning models for accurate predictions.\n",
    "\n",
    "**Datasource:**\n",
    "[Data - New York State](https://data.world/data-ny-gov/jtrr-tvq4) (Retrieved on 29.01.2024)\n",
    "\n",
    "**Project Goal:**\n",
    "Our primary goal is to develop machine learning models capable of predicting gas and energy usage in residential homes as well as the project costs. In a last step we will conduct statistical tests to assess whether there are significant changes in gas usage before and after the energy efficiency projects.\n",
    "\n",
    "Let's dive into the world of statistical testing! \n",
    "\n"
   ]
  },
  {
   "cell_type": "code",
   "execution_count": 25,
   "id": "4e9b2765-372e-47e3-aff7-ddfe30c6026d",
   "metadata": {},
   "outputs": [],
   "source": [
    "import pandas as pd\n",
    "import numpy as np\n",
    "import matplotlib.pyplot as plt\n",
    "import seaborn as sns\n",
    "import re"
   ]
  },
  {
   "cell_type": "markdown",
   "id": "30516ea9-b9d1-4907-9b5c-9433a2fe0200",
   "metadata": {},
   "source": [
    "## Load data"
   ]
  },
  {
   "cell_type": "code",
   "execution_count": 26,
   "id": "64333cb8-99bb-447e-8706-9d6dbb5649df",
   "metadata": {},
   "outputs": [],
   "source": [
    "data = pd.read_csv('../data/cleaned_data/cleaned_data.csv')"
   ]
  },
  {
   "cell_type": "code",
   "execution_count": 27,
   "id": "5490c59d-ceba-45f2-a1dc-1de24b97047c",
   "metadata": {},
   "outputs": [
    {
     "data": {
      "text/html": [
       "<div>\n",
       "<style scoped>\n",
       "    .dataframe tbody tr th:only-of-type {\n",
       "        vertical-align: middle;\n",
       "    }\n",
       "\n",
       "    .dataframe tbody tr th {\n",
       "        vertical-align: top;\n",
       "    }\n",
       "\n",
       "    .dataframe thead th {\n",
       "        text-align: right;\n",
       "    }\n",
       "</style>\n",
       "<table border=\"1\" class=\"dataframe\">\n",
       "  <thead>\n",
       "    <tr style=\"text-align: right;\">\n",
       "      <th></th>\n",
       "      <th>Unnamed: 0</th>\n",
       "      <th>project_id</th>\n",
       "      <th>contractor_id</th>\n",
       "      <th>project_county</th>\n",
       "      <th>project_city</th>\n",
       "      <th>project_zip</th>\n",
       "      <th>climate_zone</th>\n",
       "      <th>weather_station</th>\n",
       "      <th>weather_station-normalization</th>\n",
       "      <th>project_completion_date</th>\n",
       "      <th>...</th>\n",
       "      <th>consolidated_edison</th>\n",
       "      <th>lipa</th>\n",
       "      <th>national_grid</th>\n",
       "      <th>national_fuel_gas</th>\n",
       "      <th>nyseg</th>\n",
       "      <th>orange_and_rockland</th>\n",
       "      <th>rochester_gas_and_electric</th>\n",
       "      <th>all_false</th>\n",
       "      <th>coordinates</th>\n",
       "      <th>age_category</th>\n",
       "    </tr>\n",
       "  </thead>\n",
       "  <tbody>\n",
       "    <tr>\n",
       "      <th>0</th>\n",
       "      <td>0</td>\n",
       "      <td>P00000034473</td>\n",
       "      <td>CY0000000014</td>\n",
       "      <td>Onondaga</td>\n",
       "      <td>Fabius</td>\n",
       "      <td>13063</td>\n",
       "      <td>5</td>\n",
       "      <td>725190</td>\n",
       "      <td>725190</td>\n",
       "      <td>2007-08-17</td>\n",
       "      <td>...</td>\n",
       "      <td>0</td>\n",
       "      <td>0</td>\n",
       "      <td>1</td>\n",
       "      <td>0</td>\n",
       "      <td>0</td>\n",
       "      <td>0</td>\n",
       "      <td>0</td>\n",
       "      <td>False</td>\n",
       "      <td>42.850323, -75.979919</td>\n",
       "      <td>Moderate</td>\n",
       "    </tr>\n",
       "    <tr>\n",
       "      <th>1</th>\n",
       "      <td>1</td>\n",
       "      <td>P00000110370</td>\n",
       "      <td>CY0000000014</td>\n",
       "      <td>Onondaga</td>\n",
       "      <td>Nedrow</td>\n",
       "      <td>13120</td>\n",
       "      <td>5</td>\n",
       "      <td>725190</td>\n",
       "      <td>725190</td>\n",
       "      <td>2007-10-04</td>\n",
       "      <td>...</td>\n",
       "      <td>0</td>\n",
       "      <td>0</td>\n",
       "      <td>1</td>\n",
       "      <td>0</td>\n",
       "      <td>0</td>\n",
       "      <td>0</td>\n",
       "      <td>0</td>\n",
       "      <td>False</td>\n",
       "      <td>42.950373, -76.163321</td>\n",
       "      <td>Very Old</td>\n",
       "    </tr>\n",
       "    <tr>\n",
       "      <th>2</th>\n",
       "      <td>2</td>\n",
       "      <td>P00000182080</td>\n",
       "      <td>CY0000000014</td>\n",
       "      <td>Onondaga</td>\n",
       "      <td>Jamesville</td>\n",
       "      <td>13078</td>\n",
       "      <td>5</td>\n",
       "      <td>725190</td>\n",
       "      <td>725190</td>\n",
       "      <td>2008-02-27</td>\n",
       "      <td>...</td>\n",
       "      <td>0</td>\n",
       "      <td>0</td>\n",
       "      <td>1</td>\n",
       "      <td>0</td>\n",
       "      <td>0</td>\n",
       "      <td>0</td>\n",
       "      <td>0</td>\n",
       "      <td>False</td>\n",
       "      <td>42.976691, -76.069719</td>\n",
       "      <td>Moderate</td>\n",
       "    </tr>\n",
       "    <tr>\n",
       "      <th>3</th>\n",
       "      <td>3</td>\n",
       "      <td>P00000196191</td>\n",
       "      <td>CY0000000261</td>\n",
       "      <td>Albany</td>\n",
       "      <td>Albany</td>\n",
       "      <td>12203</td>\n",
       "      <td>5</td>\n",
       "      <td>725180</td>\n",
       "      <td>725180</td>\n",
       "      <td>2008-02-20</td>\n",
       "      <td>...</td>\n",
       "      <td>0</td>\n",
       "      <td>0</td>\n",
       "      <td>1</td>\n",
       "      <td>0</td>\n",
       "      <td>0</td>\n",
       "      <td>0</td>\n",
       "      <td>0</td>\n",
       "      <td>False</td>\n",
       "      <td>42.680815, -73.836193</td>\n",
       "      <td>Old</td>\n",
       "    </tr>\n",
       "    <tr>\n",
       "      <th>4</th>\n",
       "      <td>4</td>\n",
       "      <td>P00000327900</td>\n",
       "      <td>CY0000000004</td>\n",
       "      <td>Erie</td>\n",
       "      <td>Buffalo</td>\n",
       "      <td>14221</td>\n",
       "      <td>5</td>\n",
       "      <td>725280</td>\n",
       "      <td>725280</td>\n",
       "      <td>2008-06-18</td>\n",
       "      <td>...</td>\n",
       "      <td>0</td>\n",
       "      <td>0</td>\n",
       "      <td>1</td>\n",
       "      <td>0</td>\n",
       "      <td>0</td>\n",
       "      <td>0</td>\n",
       "      <td>0</td>\n",
       "      <td>False</td>\n",
       "      <td>42.980424, -78.728009</td>\n",
       "      <td>Moderate</td>\n",
       "    </tr>\n",
       "  </tbody>\n",
       "</table>\n",
       "<p>5 rows × 37 columns</p>\n",
       "</div>"
      ],
      "text/plain": [
       "   Unnamed: 0    project_id contractor_id project_county project_city  \\\n",
       "0           0  P00000034473  CY0000000014       Onondaga       Fabius   \n",
       "1           1  P00000110370  CY0000000014       Onondaga       Nedrow   \n",
       "2           2  P00000182080  CY0000000014       Onondaga   Jamesville   \n",
       "3           3  P00000196191  CY0000000261         Albany       Albany   \n",
       "4           4  P00000327900  CY0000000004           Erie      Buffalo   \n",
       "\n",
       "   project_zip  climate_zone  weather_station  weather_station-normalization  \\\n",
       "0        13063             5           725190                         725190   \n",
       "1        13120             5           725190                         725190   \n",
       "2        13078             5           725190                         725190   \n",
       "3        12203             5           725180                         725180   \n",
       "4        14221             5           725280                         725280   \n",
       "\n",
       "  project_completion_date  ... consolidated_edison  lipa  national_grid  \\\n",
       "0              2007-08-17  ...                   0     0              1   \n",
       "1              2007-10-04  ...                   0     0              1   \n",
       "2              2008-02-27  ...                   0     0              1   \n",
       "3              2008-02-20  ...                   0     0              1   \n",
       "4              2008-06-18  ...                   0     0              1   \n",
       "\n",
       "   national_fuel_gas  nyseg  orange_and_rockland  rochester_gas_and_electric  \\\n",
       "0                  0      0                    0                           0   \n",
       "1                  0      0                    0                           0   \n",
       "2                  0      0                    0                           0   \n",
       "3                  0      0                    0                           0   \n",
       "4                  0      0                    0                           0   \n",
       "\n",
       "   all_false            coordinates  age_category  \n",
       "0      False  42.850323, -75.979919      Moderate  \n",
       "1      False  42.950373, -76.163321      Very Old  \n",
       "2      False  42.976691, -76.069719      Moderate  \n",
       "3      False  42.680815, -73.836193           Old  \n",
       "4      False  42.980424, -78.728009      Moderate  \n",
       "\n",
       "[5 rows x 37 columns]"
      ]
     },
     "execution_count": 27,
     "metadata": {},
     "output_type": "execute_result"
    }
   ],
   "source": [
    "data.head()"
   ]
  },
  {
   "cell_type": "code",
   "execution_count": 28,
   "id": "b7e880eb-d750-40c7-8962-f398c1de1a57",
   "metadata": {},
   "outputs": [],
   "source": [
    "data = data.drop(columns = ['Unnamed: 0'])"
   ]
  },
  {
   "cell_type": "code",
   "execution_count": 29,
   "id": "209d108a-c57c-4edf-8ae2-59231449a7ab",
   "metadata": {},
   "outputs": [],
   "source": [
    "data = data.drop(columns = ['all_false'])"
   ]
  },
  {
   "cell_type": "markdown",
   "id": "efb0d7b5-2e61-40c0-8316-db514f882c64",
   "metadata": {},
   "source": [
    "# Statistical test on gas usage"
   ]
  },
  {
   "cell_type": "markdown",
   "id": "a75618c0-f581-4b7a-886a-aa49dc248481",
   "metadata": {},
   "source": [
    "As part of assessing the impact of energy efficiency projects, it is hypothesized that there are major changes in gas usage efficiency in residential homes, as indicated by the columns baseline_gas (gas usage before the project) and reporting_gas (gas usage after the project). To confirm this hypothesis, a t-test will be conducted to statistically assess the significance of the difference in gas usage before and after the energy efficiency projects."
   ]
  },
  {
   "cell_type": "markdown",
   "id": "1a56a2db-2ff6-471b-a728-5949a7bbb0ae",
   "metadata": {},
   "source": [
    "## paired t-test"
   ]
  },
  {
   "cell_type": "markdown",
   "id": "f3385120-32bf-480b-a40b-5a2f8d4b0bde",
   "metadata": {},
   "source": [
    "Null Hypothesis (H0): The mean difference between baseline_gas and reporting_gas is equal to zero (no change).\n",
    "\n",
    "Alternative Hypothesis (H1): The mean difference between baseline_gas and reporting_gas is not equal to zero (there is a significant change)."
   ]
  },
  {
   "cell_type": "code",
   "execution_count": 33,
   "id": "6f1b67d7-b733-4e31-8022-443c8a6b8f35",
   "metadata": {},
   "outputs": [
    {
     "name": "stdout",
     "output_type": "stream",
     "text": [
      "T-statistic: 25.32654973741271\n",
      "P-value: 1.641024407155816e-130\n",
      "Reject the null hypothesis. There is a significant difference.\n",
      "The mean of 'reporting_gas' is higher than 'baseline_gas'.\n"
     ]
    }
   ],
   "source": [
    "from scipy.stats import ttest_rel\n",
    "\n",
    "t_statistic, p_value = ttest_rel(data['baseline_gas'], data['reporting_gas'])\n",
    "\n",
    "print(f'T-statistic: {t_statistic}')\n",
    "print(f'P-value: {p_value}')\n",
    "\n",
    "# Check if the result is statistically significant at a chosen significance level (here: 0.05)\n",
    "\n",
    "alpha = 0.05\n",
    "if p_value < alpha:\n",
    "    print(\"Reject the null hypothesis. There is a significant difference.\")\n",
    "    \n",
    "    # Determine the direction of the difference\n",
    "    if t_statistic > 0:\n",
    "        print(\"The mean of 'reporting_gas' is higher than 'baseline_gas'.\")\n",
    "    elif t_statistic < 0:\n",
    "        print(\"The mean of 'reporting_gas' is lower than 'baseline_gas'.\")\n",
    "    else:\n",
    "        print(\"No significant difference in means.\")\n",
    "else:\n",
    "    print(\"Fail to reject the null hypothesis. No significant difference found.\")\n",
    "\n"
   ]
  },
  {
   "cell_type": "markdown",
   "id": "62f61262-7e3b-4ecb-a16e-1117d11fc6d3",
   "metadata": {},
   "source": [
    "This leads into the conclusion that there is a change in gas usage before and after the project.\n",
    "\n",
    "--> Alternative Hypothesis (H1): The mean difference between baseline_gas and reporting_gas is not equal to zero (there is a significant change)."
   ]
  },
  {
   "cell_type": "markdown",
   "id": "25e60393-0d33-4fd7-aa67-ce0d52fe7d65",
   "metadata": {},
   "source": [
    "# Statistical test on electricity usage"
   ]
  },
  {
   "cell_type": "markdown",
   "id": "6a4bc5f8-94f6-41e4-aeab-b7c3e02289ad",
   "metadata": {},
   "source": [
    "As part of assessing the impact of energy efficiency projects, it is hypothesized that there are major changes in electricity usage efficiency in residential homes, as indicated by the columns baseline_electricity (electricity usage before the project) and reporting_electricity (electricity usage after the project). To confirm this hypothesis, a t-test will be conducted to statistically assess the significance of the difference in electricity usage before and after the energy efficiency projects."
   ]
  },
  {
   "cell_type": "markdown",
   "id": "d2d5e6d2-a8cb-4ff3-8391-1e85d960e761",
   "metadata": {},
   "source": [
    "## paired t-test"
   ]
  },
  {
   "cell_type": "markdown",
   "id": "df21ed0b-c136-4f44-808f-7ace75f1fc4a",
   "metadata": {},
   "source": [
    "Null Hypothesis (H0): The mean difference between baseline_electric and reporting_electric is equal to zero (no change).\n",
    "\n",
    "Alternative Hypothesis (H1): The mean difference between baseline_electric and reporting_electric is not equal to zero (there is a significant change)."
   ]
  },
  {
   "cell_type": "code",
   "execution_count": 44,
   "id": "e7cade84-8ac1-4184-8862-1d85559b4792",
   "metadata": {},
   "outputs": [
    {
     "name": "stdout",
     "output_type": "stream",
     "text": [
      "T-statistic: 7.280835163901055\n",
      "P-value: 4.042923029585936e-13\n",
      "Reject the null hypothesis. There is a significant difference.\n",
      "The mean of 'baseline_electric' is higher than 'reporting_electricity'.\n"
     ]
    }
   ],
   "source": [
    "from scipy.stats import ttest_rel\n",
    "\n",
    "# Assuming 'baseline_electricity' and 'reporting_electricity' are your columns of interest in a DataFrame (e.g., data)\n",
    "t_statistic, p_value = ttest_rel(data['baseline_electric'], data['reporting_electric'])\n",
    "\n",
    "# Print the results\n",
    "print(f'T-statistic: {t_statistic}')\n",
    "print(f'P-value: {p_value}')\n",
    "\n",
    "# Check if the result is statistically significant at a chosen significance level (here: 0.05)\n",
    "alpha = 0.05\n",
    "if p_value < alpha:\n",
    "    print(\"Reject the null hypothesis. There is a significant difference.\")\n",
    "    \n",
    "    # Determine the direction of the difference\n",
    "    if t_statistic > 0:\n",
    "        print(\"The mean of 'baseline_electric' is higher than 'reporting_electricity'.\")\n",
    "    elif t_statistic < 0:\n",
    "        print(\"The mean of 'baseline_electric' is lower than 'reporting_electricity'.\")\n",
    "    else:\n",
    "        print(\"No significant difference in means.\")\n",
    "else:\n",
    "    print(\"Fail to reject the null hypothesis. No significant difference found.\")\n"
   ]
  },
  {
   "cell_type": "markdown",
   "id": "019f1fa4-78ea-4b2b-bcc2-0165431e57b7",
   "metadata": {},
   "source": [
    "# The question of seasonality and other external factors"
   ]
  },
  {
   "cell_type": "markdown",
   "id": "31d97945-1b3e-43bf-bc7e-d8bde3699ee3",
   "metadata": {},
   "source": [
    "Gas and electricity usage are likely influenced by the seasonal changes in the US state of New York, which experiences four distinct seasons, with January being the coldest month\n",
    "\n",
    "The observation that the mean of 'reporting_gas' surpasses 'baseline_gas' raises questions about potential seasonal influences, particularly during colder months."
   ]
  },
  {
   "cell_type": "code",
   "execution_count": 48,
   "id": "e0650b1a-66ea-4932-aaf4-2af7c5d8f0db",
   "metadata": {},
   "outputs": [
    {
     "data": {
      "text/plain": [
       "0    2007-08-17\n",
       "1    2007-10-04\n",
       "2    2008-02-27\n",
       "3    2008-02-20\n",
       "4    2008-06-18\n",
       "Name: project_completion_date, dtype: object"
      ]
     },
     "metadata": {},
     "output_type": "display_data"
    }
   ],
   "source": [
    "data['project_completion_date'].head()"
   ]
  },
  {
   "cell_type": "code",
   "execution_count": 52,
   "id": "4c171ed2-132a-428e-aa65-be8854ee94ab",
   "metadata": {},
   "outputs": [
    {
     "data": {
      "text/plain": [
       "0        8\n",
       "1       10\n",
       "2        2\n",
       "3        2\n",
       "4        6\n",
       "        ..\n",
       "3647     8\n",
       "3648    10\n",
       "3649    10\n",
       "3650     9\n",
       "3651    10\n",
       "Name: month, Length: 3652, dtype: int32"
      ]
     },
     "execution_count": 52,
     "metadata": {},
     "output_type": "execute_result"
    }
   ],
   "source": [
    "data['month'] = pd.to_datetime(data['project_completion_date']).dt.month\n",
    "\n",
    "data['month']"
   ]
  },
  {
   "cell_type": "code",
   "execution_count": 55,
   "id": "6fc77831-d0eb-4ba3-928d-39e704777ba0",
   "metadata": {},
   "outputs": [
    {
     "data": {
      "text/plain": [
       "month\n",
       "1     400\n",
       "12    368\n",
       "10    341\n",
       "2     332\n",
       "11    329\n",
       "3     311\n",
       "9     304\n",
       "8     301\n",
       "7     259\n",
       "4     251\n",
       "6     245\n",
       "5     211\n",
       "Name: count, dtype: int64"
      ]
     },
     "execution_count": 55,
     "metadata": {},
     "output_type": "execute_result"
    }
   ],
   "source": [
    "data['month'].value_counts()"
   ]
  },
  {
   "cell_type": "markdown",
   "id": "8b458d8a-fd76-4737-8b20-444f9bde691a",
   "metadata": {},
   "source": [
    "A substantial number of projects were completed during the winter months from October to March. Given that these months are crucial for energy efficiency due to colder temperatures, the current data, which only includes baseline and reporting values for 9 months, might not fully capture the impact of the projects.\n",
    "\n",
    "To address this, it would be prudent to remodel the data by extending the baseline and reporting values to cover all 12 months. This adjustment would provide a more comprehensive view of the energy usage patterns throughout the entire year, ensuring that the analysis accounts for the crucial winter months when energy efficiency initiatives are most likely to make a higher impact.\n",
    "\n",
    "Gas and electricity usage are influenced by various external factors, including seasonality, weather conditions, and other variables. To gain a more precise understanding of the impact of energy efficiency projects, it is essential to consider long-term data. This broader dataset would enable a more comprehensive analysis, allowing for a nuanced exploration of how different factors contribute to fluctuations in gas and electricity consumption over time."
   ]
  }
 ],
 "metadata": {
  "kernelspec": {
   "display_name": "projectv",
   "language": "python",
   "name": "projectv"
  },
  "language_info": {
   "codemirror_mode": {
    "name": "ipython",
    "version": 3
   },
   "file_extension": ".py",
   "mimetype": "text/x-python",
   "name": "python",
   "nbconvert_exporter": "python",
   "pygments_lexer": "ipython3",
   "version": "3.11.5"
  }
 },
 "nbformat": 4,
 "nbformat_minor": 5
}
